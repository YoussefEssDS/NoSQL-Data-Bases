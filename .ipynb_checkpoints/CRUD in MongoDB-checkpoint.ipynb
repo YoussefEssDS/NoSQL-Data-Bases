{
 "cells": [
  {
   "cell_type": "markdown",
   "metadata": {},
   "source": [
    "# CRUD in MongoDB:\n",
    "\n",
    "In this notebook we will explore the main transactions done on a database (CRUD) on a document based database (MongoDB).\n",
    "\n",
    "First, we load the data from the file primer-dataset.json using cmd using the following command: \n",
    "\n",
    "mongoimport --db test --collection restaurants --drop --file \"path to file\""
   ]
  },
  {
   "cell_type": "code",
   "execution_count": 223,
   "metadata": {},
   "outputs": [],
   "source": [
    "import pymongo as pg #Among other things handles conncection between the db and python environement \n",
    "from pprint import pprint #pretty print\n",
    "import datetime #Needed to format the datetime input later on."
   ]
  },
  {
   "cell_type": "code",
   "execution_count": 204,
   "metadata": {},
   "outputs": [],
   "source": [
    "client=pg.MongoClient()\n",
    "db=client.test"
   ]
  },
  {
   "cell_type": "code",
   "execution_count": 205,
   "metadata": {
    "scrolled": true
   },
   "outputs": [
    {
     "name": "stdout",
     "output_type": "stream",
     "text": [
      "{'_id': ObjectId('5cc75cf13ff99b33afc9063f'), 'address': {'building': '469', 'coord': [-73.961704, 40.662942], 'street': 'Flatbush Avenue', 'zipcode': '11225'}, 'borough': 'Brooklyn', 'cuisine': 'Hamburgers', 'grades': [{'date': datetime.datetime(2014, 12, 30, 0, 0), 'grade': 'A', 'score': 8}, {'date': datetime.datetime(2014, 7, 1, 0, 0), 'grade': 'B', 'score': 23}, {'date': datetime.datetime(2013, 4, 30, 0, 0), 'grade': 'A', 'score': 12}, {'date': datetime.datetime(2012, 5, 8, 0, 0), 'grade': 'A', 'score': 12}], 'name': \"Wendy'S\", 'restaurant_id': '30112340'}\n"
     ]
    }
   ],
   "source": [
    "print(db.restaurants.find_one())"
   ]
  },
  {
   "cell_type": "code",
   "execution_count": 206,
   "metadata": {},
   "outputs": [
    {
     "name": "stdout",
     "output_type": "stream",
     "text": [
      "{'_id': ObjectId('5cc75cf13ff99b33afc9063f'),\n",
      " 'address': {'building': '469',\n",
      "             'coord': [-73.961704, 40.662942],\n",
      "             'street': 'Flatbush Avenue',\n",
      "             'zipcode': '11225'},\n",
      " 'borough': 'Brooklyn',\n",
      " 'cuisine': 'Hamburgers',\n",
      " 'grades': [{'date': datetime.datetime(2014, 12, 30, 0, 0),\n",
      "             'grade': 'A',\n",
      "             'score': 8},\n",
      "            {'date': datetime.datetime(2014, 7, 1, 0, 0),\n",
      "             'grade': 'B',\n",
      "             'score': 23},\n",
      "            {'date': datetime.datetime(2013, 4, 30, 0, 0),\n",
      "             'grade': 'A',\n",
      "             'score': 12},\n",
      "            {'date': datetime.datetime(2012, 5, 8, 0, 0),\n",
      "             'grade': 'A',\n",
      "             'score': 12}],\n",
      " 'name': \"Wendy'S\",\n",
      " 'restaurant_id': '30112340'}\n"
     ]
    }
   ],
   "source": [
    "pprint(db.restaurants.find_one())"
   ]
  },
  {
   "cell_type": "code",
   "execution_count": 207,
   "metadata": {},
   "outputs": [
    {
     "name": "stderr",
     "output_type": "stream",
     "text": [
      "C:\\Users\\YsfEss\\Anaconda3\\lib\\site-packages\\ipykernel_launcher.py:1: DeprecationWarning: count is deprecated. Use estimated_document_count or count_documents instead. Please note that $where must be replaced by $expr, $near must be replaced by $geoWithin with $center, and $nearSphere must be replaced by $geoWithin with $centerSphere\n",
      "  \"\"\"Entry point for launching an IPython kernel.\n"
     ]
    },
    {
     "data": {
      "text/plain": [
       "25359"
      ]
     },
     "execution_count": 207,
     "metadata": {},
     "output_type": "execute_result"
    }
   ],
   "source": [
    "db.restaurants.count() #Number of restaurants in the JSON file."
   ]
  },
  {
   "cell_type": "markdown",
   "metadata": {},
   "source": [
    "# Inserting a new document:"
   ]
  },
  {
   "cell_type": "code",
   "execution_count": 208,
   "metadata": {},
   "outputs": [
    {
     "data": {
      "text/plain": [
       "<pymongo.results.InsertOneResult at 0x18b99ef3d48>"
      ]
     },
     "execution_count": 208,
     "metadata": {},
     "output_type": "execute_result"
    }
   ],
   "source": [
    "db.restaurants.insert_one(\n",
    "{\n",
    "\"address\" : {\n",
    "\"street\" : \"2 Avenue\",\n",
    "\"zipcode\" : \"10075\",\n",
    "\"building\" : \"1480\",\n",
    "\"coord\" : [ -73.9557413, 40.7720266 ]\n",
    "},\n",
    "\"borough\" : \"Manhattan\",\n",
    "\"cuisine\" : \"Italian\",\n",
    "\"grades\" : [\n",
    "{\n",
    "\"date\" : datetime.datetime(2014, 10, 1, 0, 0, 0, 0),\n",
    "    \"grade\" : \"A\",\n",
    "\"score\" : 11\n",
    "},\n",
    "{\n",
    "\"date\" : datetime.datetime(2014, 1, 16, 0, 0, 0, 0),\n",
    "\"grade\" : \"B\",\n",
    "\"score\" : 17\n",
    "}\n",
    "],\n",
    "\"name\" : \"Vella\",\n",
    "\"restaurant_id\" : \"41704620\"\n",
    "}\n",
    ")"
   ]
  },
  {
   "cell_type": "code",
   "execution_count": 209,
   "metadata": {},
   "outputs": [
    {
     "name": "stderr",
     "output_type": "stream",
     "text": [
      "C:\\Users\\YsfEss\\Anaconda3\\lib\\site-packages\\ipykernel_launcher.py:1: DeprecationWarning: count is deprecated. Use estimated_document_count or count_documents instead. Please note that $where must be replaced by $expr, $near must be replaced by $geoWithin with $center, and $nearSphere must be replaced by $geoWithin with $centerSphere\n",
      "  \"\"\"Entry point for launching an IPython kernel.\n"
     ]
    },
    {
     "data": {
      "text/plain": [
       "25360"
      ]
     },
     "execution_count": 209,
     "metadata": {},
     "output_type": "execute_result"
    }
   ],
   "source": [
    "db.restaurants.count()"
   ]
  },
  {
   "cell_type": "markdown",
   "metadata": {},
   "source": [
    "# Updating Top-level fields:\n",
    "\n",
    "Update the Document relative to the Juni restaurant and set the cuisine to ‘American\n",
    "(New)’ and the lastModified field in current date to True. Use the function find_one() before and after the update to\n",
    "verify its execution."
   ]
  },
  {
   "cell_type": "code",
   "execution_count": 129,
   "metadata": {},
   "outputs": [
    {
     "name": "stdout",
     "output_type": "stream",
     "text": [
      "{'_id': ObjectId('5cc731653ff99b33afc84a98'),\n",
      " 'address': {'building': '12',\n",
      "             'coord': [-73.9852329, 40.745971],\n",
      "             'street': 'East 31 Street',\n",
      "             'zipcode': '10016'},\n",
      " 'borough': 'Manhattan',\n",
      " 'cuisine': 'American',\n",
      " 'grades': [{'date': datetime.datetime(2014, 9, 19, 0, 0),\n",
      "             'grade': 'A',\n",
      "             'score': 12},\n",
      "            {'date': datetime.datetime(2013, 8, 5, 0, 0),\n",
      "             'grade': 'A',\n",
      "             'score': 5},\n",
      "            {'date': datetime.datetime(2012, 6, 7, 0, 0),\n",
      "             'grade': 'A',\n",
      "             'score': 0}],\n",
      " 'name': 'Juni',\n",
      " 'restaurant_id': '41156888'}\n",
      "{'_id': ObjectId('5cc731653ff99b33afc84a98'),\n",
      " 'address': {'building': '12',\n",
      "             'coord': [-73.9852329, 40.745971],\n",
      "             'street': 'East 31 Street',\n",
      "             'zipcode': '10016'},\n",
      " 'borough': 'Manhattan',\n",
      " 'cuisine': 'American(New)',\n",
      " 'grades': [{'date': datetime.datetime(2014, 9, 19, 0, 0),\n",
      "             'grade': 'A',\n",
      "             'score': 12},\n",
      "            {'date': datetime.datetime(2013, 8, 5, 0, 0),\n",
      "             'grade': 'A',\n",
      "             'score': 5},\n",
      "            {'date': datetime.datetime(2012, 6, 7, 0, 0),\n",
      "             'grade': 'A',\n",
      "             'score': 0}],\n",
      " 'name': 'Juni',\n",
      " 'restaurant_id': '41156888'}\n"
     ]
    }
   ],
   "source": [
    "queryF = { \"name\": \"Juni\" }\n",
    "pprint(db.restaurants.find_one(queryF))\n",
    "newValues={\"$set\":{\"cuisine\":\"American(New)\"}}\n",
    "db.restaurants.update_one(queryF,newValues)\n",
    "pprint(db.restaurants.find_one(queryF))"
   ]
  },
  {
   "cell_type": "markdown",
   "metadata": {},
   "source": [
    "# Updating Embedded fields:\n",
    "\n",
    "Update the street of the restaurant whose id is 41156888 with the new value \"East\n",
    "41st Street\""
   ]
  },
  {
   "cell_type": "code",
   "execution_count": 130,
   "metadata": {},
   "outputs": [
    {
     "name": "stdout",
     "output_type": "stream",
     "text": [
      "{'_id': ObjectId('5cc731653ff99b33afc84a98'),\n",
      " 'address': {'building': '12',\n",
      "             'coord': [-73.9852329, 40.745971],\n",
      "             'street': 'East 31 Street',\n",
      "             'zipcode': '10016'},\n",
      " 'borough': 'Manhattan',\n",
      " 'cuisine': 'American(New)',\n",
      " 'grades': [{'date': datetime.datetime(2014, 9, 19, 0, 0),\n",
      "             'grade': 'A',\n",
      "             'score': 12},\n",
      "            {'date': datetime.datetime(2013, 8, 5, 0, 0),\n",
      "             'grade': 'A',\n",
      "             'score': 5},\n",
      "            {'date': datetime.datetime(2012, 6, 7, 0, 0),\n",
      "             'grade': 'A',\n",
      "             'score': 0}],\n",
      " 'name': 'Juni',\n",
      " 'restaurant_id': '41156888'}\n",
      "{'_id': ObjectId('5cc731653ff99b33afc84a98'),\n",
      " 'address': {'building': '12',\n",
      "             'coord': [-73.9852329, 40.745971],\n",
      "             'street': 'East 41st Street',\n",
      "             'zipcode': '10016'},\n",
      " 'borough': 'Manhattan',\n",
      " 'cuisine': 'American(New)',\n",
      " 'grades': [{'date': datetime.datetime(2014, 9, 19, 0, 0),\n",
      "             'grade': 'A',\n",
      "             'score': 12},\n",
      "            {'date': datetime.datetime(2013, 8, 5, 0, 0),\n",
      "             'grade': 'A',\n",
      "             'score': 5},\n",
      "            {'date': datetime.datetime(2012, 6, 7, 0, 0),\n",
      "             'grade': 'A',\n",
      "             'score': 0}],\n",
      " 'name': 'Juni',\n",
      " 'restaurant_id': '41156888'}\n"
     ]
    }
   ],
   "source": [
    "query2 = { \"restaurant_id\": \"41156888\" }\n",
    "pprint(db.restaurants.find_one(query2))\n",
    "newValues={\"$set\":{\"address.street\":\"East 41st Street\"}}\n",
    "db.restaurants.update_one(query2,newValues)\n",
    "pprint(db.restaurants.find_one(query2))"
   ]
  },
  {
   "cell_type": "markdown",
   "metadata": {},
   "source": [
    "# Updating multiple Documents:\n",
    "\n",
    "Update all documents that have a zipcode field equal to \"10016\" and cuisine\n",
    "field equal to “Other”. Set the cuisine field to \"Category To Be Determined\".\n",
    "\n",
    "There is no field called \"lastModified\"."
   ]
  },
  {
   "cell_type": "code",
   "execution_count": 131,
   "metadata": {
    "scrolled": false
   },
   "outputs": [
    {
     "name": "stderr",
     "output_type": "stream",
     "text": [
      "C:\\Users\\YsfEss\\Anaconda3\\lib\\site-packages\\ipykernel_launcher.py:1: DeprecationWarning: count is deprecated. Use Collection.count_documents instead.\n",
      "  \"\"\"Entry point for launching an IPython kernel.\n"
     ]
    },
    {
     "data": {
      "text/plain": [
       "0"
      ]
     },
     "execution_count": 131,
     "metadata": {},
     "output_type": "execute_result"
    }
   ],
   "source": [
    "db.restaurants.find({\"lastModified\": {\"$exists\":True}}).count()"
   ]
  },
  {
   "cell_type": "code",
   "execution_count": 132,
   "metadata": {},
   "outputs": [
    {
     "name": "stderr",
     "output_type": "stream",
     "text": [
      "C:\\Users\\YsfEss\\Anaconda3\\lib\\site-packages\\ipykernel_launcher.py:1: DeprecationWarning: count is deprecated. Use Collection.count_documents instead.\n",
      "  \"\"\"Entry point for launching an IPython kernel.\n"
     ]
    },
    {
     "data": {
      "text/plain": [
       "1011"
      ]
     },
     "execution_count": 132,
     "metadata": {},
     "output_type": "execute_result"
    }
   ],
   "source": [
    "db.restaurants.find({\"cuisine\":\"Other\"}).count() #Number of restaurants with 'Other' value for the cuisine key."
   ]
  },
  {
   "cell_type": "code",
   "execution_count": 133,
   "metadata": {},
   "outputs": [
    {
     "data": {
      "text/plain": [
       "<pymongo.results.UpdateResult at 0x18b99f697c8>"
      ]
     },
     "execution_count": 133,
     "metadata": {},
     "output_type": "execute_result"
    }
   ],
   "source": [
    "db.restaurants.update_many({\"cuisine\":\"Other\"},{\"$set\":{\"cuisine\":\"Category To Be Determined\"}}) #Updating multiple files."
   ]
  },
  {
   "cell_type": "code",
   "execution_count": 134,
   "metadata": {},
   "outputs": [
    {
     "name": "stderr",
     "output_type": "stream",
     "text": [
      "C:\\Users\\YsfEss\\Anaconda3\\lib\\site-packages\\ipykernel_launcher.py:1: DeprecationWarning: count is deprecated. Use Collection.count_documents instead.\n",
      "  \"\"\"Entry point for launching an IPython kernel.\n"
     ]
    },
    {
     "data": {
      "text/plain": [
       "0"
      ]
     },
     "execution_count": 134,
     "metadata": {},
     "output_type": "execute_result"
    }
   ],
   "source": [
    "db.restaurants.find({\"cuisine\":\"Other\"}).count() #We expect 0."
   ]
  },
  {
   "cell_type": "code",
   "execution_count": 135,
   "metadata": {},
   "outputs": [
    {
     "name": "stderr",
     "output_type": "stream",
     "text": [
      "C:\\Users\\YsfEss\\Anaconda3\\lib\\site-packages\\ipykernel_launcher.py:1: DeprecationWarning: count is deprecated. Use Collection.count_documents instead.\n",
      "  \"\"\"Entry point for launching an IPython kernel.\n"
     ]
    },
    {
     "data": {
      "text/plain": [
       "1011"
      ]
     },
     "execution_count": 135,
     "metadata": {},
     "output_type": "execute_result"
    }
   ],
   "source": [
    "db.restaurants.find({\"cuisine\":\"Category To Be Determined\"}).count() # We expect 1011"
   ]
  },
  {
   "cell_type": "markdown",
   "metadata": {},
   "source": [
    "# Replacing a Document:\n",
    "\n",
    "Update the Document for the restaurant with id : “41704620”. The modified document will only contain the _id field, name field, the address field. i.e. the document will not contain the restaurant_id, cuisine, grades, and the borough fields."
   ]
  },
  {
   "cell_type": "code",
   "execution_count": 210,
   "metadata": {},
   "outputs": [],
   "source": [
    "name=db.restaurants.find_one({\"restaurant_id\":\"41704620\"},{\"name\"})\n",
    "address=db.restaurants.find_one({\"restaurant_id\":\"41704620\"},{\"address\"})"
   ]
  },
  {
   "cell_type": "code",
   "execution_count": 211,
   "metadata": {},
   "outputs": [],
   "source": [
    "def extractSubFields(field):\n",
    "    l=[]\n",
    "    for subField in field.keys():\n",
    "        l.append(field[subField])\n",
    "    return(l)"
   ]
  },
  {
   "cell_type": "code",
   "execution_count": 216,
   "metadata": {},
   "outputs": [
    {
     "data": {
      "text/plain": [
       "{'_id': ObjectId('5cc75cf23ff99b33afc94b39'),\n",
       " 'address': {'building': '1480',\n",
       "  'coord': [-73.9557413, 40.7720266],\n",
       "  'street': '2 Avenue',\n",
       "  'zipcode': '10075'},\n",
       " 'borough': 'Manhattan',\n",
       " 'cuisine': 'Italian',\n",
       " 'grades': [{'date': datetime.datetime(2014, 10, 1, 0, 0),\n",
       "   'grade': 'A',\n",
       "   'score': 11},\n",
       "  {'date': datetime.datetime(2014, 1, 16, 0, 0), 'grade': 'B', 'score': 17}],\n",
       " 'name': 'Vella',\n",
       " 'restaurant_id': '41704620'}"
      ]
     },
     "execution_count": 216,
     "metadata": {},
     "output_type": "execute_result"
    }
   ],
   "source": [
    "db.restaurants.find_one({\"restaurant_id\":\"41704620\"})"
   ]
  },
  {
   "cell_type": "code",
   "execution_count": 218,
   "metadata": {},
   "outputs": [
    {
     "data": {
      "text/plain": [
       "<pymongo.results.UpdateResult at 0x18b99eeccc8>"
      ]
     },
     "execution_count": 218,
     "metadata": {},
     "output_type": "execute_result"
    }
   ],
   "source": [
    "db.restaurants.replace_one({\"restaurant_id\":\"41704620\"},{\n",
    "    \"_id\":extractSubFields(name)[0],\n",
    "    \"address\":extractSubFields(address)[1],\n",
    "    \"name\":extractSubFields(name)[1]\n",
    "})"
   ]
  },
  {
   "cell_type": "code",
   "execution_count": 219,
   "metadata": {},
   "outputs": [
    {
     "data": {
      "text/plain": [
       "{'_id': ObjectId('5cc75cf23ff99b33afc94b39'),\n",
       " 'address': {'building': '1480',\n",
       "  'coord': [-73.9557413, 40.7720266],\n",
       "  'street': '2 Avenue',\n",
       "  'zipcode': '10075'},\n",
       " 'name': 'Vella'}"
      ]
     },
     "execution_count": 219,
     "metadata": {},
     "output_type": "execute_result"
    }
   ],
   "source": [
    "db.restaurants.find_one({\"name\":\"Vella\"})"
   ]
  },
  {
   "cell_type": "markdown",
   "metadata": {},
   "source": [
    "# Querying Data:\n",
    "\n",
    "Find all restaurants that were last modified this week."
   ]
  },
  {
   "cell_type": "code",
   "execution_count": 274,
   "metadata": {},
   "outputs": [
    {
     "data": {
      "text/plain": [
       "datetime.timedelta(0, 11167, 1969)"
      ]
     },
     "execution_count": 274,
     "metadata": {},
     "output_type": "execute_result"
    }
   ],
   "source": [
    "# Handeling datetime type.\n",
    "lastMod=ObjectId(\"5cc75cf23ff99b33afc94b39\").generation_time.replace(tzinfo=None) #removing timezone to be able to use operation on it.\n",
    "now=datetime.datetime.now()\n",
    "d=now-lastMod # its type is datetime.timedelta. datetime.timedelta([days,] [seconds,] [microseconds,] [milliseconds,] [minutes,] [hours,] [weeks])\n",
    "# We can access each component of d by its name for example number of days between the two dates d.days."
   ]
  },
  {
   "cell_type": "code",
   "execution_count": 276,
   "metadata": {},
   "outputs": [
    {
     "data": {
      "text/plain": [
       "3.1019444444444444"
      ]
     },
     "execution_count": 276,
     "metadata": {},
     "output_type": "execute_result"
    }
   ],
   "source": [
    "db.restaurants.find()"
   ]
  },
  {
   "cell_type": "code",
   "execution_count": 261,
   "metadata": {},
   "outputs": [],
   "source": [
    "a=ObjectId(\"5cc75cf23ff99b33afc94b39\").generation_time.replace(tzinfo=None)"
   ]
  },
  {
   "cell_type": "code",
   "execution_count": 269,
   "metadata": {},
   "outputs": [],
   "source": [
    "b=datetime.datetime.now()"
   ]
  },
  {
   "cell_type": "code",
   "execution_count": 270,
   "metadata": {},
   "outputs": [
    {
     "data": {
      "text/plain": [
       "datetime.datetime(2019, 4, 29, 23, 15, 46, 260679)"
      ]
     },
     "execution_count": 270,
     "metadata": {},
     "output_type": "execute_result"
    }
   ],
   "source": [
    "b"
   ]
  },
  {
   "cell_type": "code",
   "execution_count": 268,
   "metadata": {},
   "outputs": [
    {
     "data": {
      "text/plain": [
       "datetime.datetime(2019, 4, 29, 20, 22, 10)"
      ]
     },
     "execution_count": 268,
     "metadata": {},
     "output_type": "execute_result"
    }
   ],
   "source": [
    "a"
   ]
  },
  {
   "cell_type": "code",
   "execution_count": 271,
   "metadata": {},
   "outputs": [
    {
     "data": {
      "text/plain": [
       "datetime.timedelta(0, 10416, 260679)"
      ]
     },
     "execution_count": 271,
     "metadata": {},
     "output_type": "execute_result"
    }
   ],
   "source": [
    "b-a"
   ]
  },
  {
   "cell_type": "code",
   "execution_count": null,
   "metadata": {},
   "outputs": [],
   "source": []
  }
 ],
 "metadata": {
  "kernelspec": {
   "display_name": "Python 3",
   "language": "python",
   "name": "python3"
  },
  "language_info": {
   "codemirror_mode": {
    "name": "ipython",
    "version": 3
   },
   "file_extension": ".py",
   "mimetype": "text/x-python",
   "name": "python",
   "nbconvert_exporter": "python",
   "pygments_lexer": "ipython3",
   "version": "3.6.4"
  }
 },
 "nbformat": 4,
 "nbformat_minor": 2
}
