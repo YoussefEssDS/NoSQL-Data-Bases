{
 "cells": [
  {
   "cell_type": "markdown",
   "metadata": {},
   "source": [
    "# CRUD IN MongoDB:\n",
    "\n",
    "In this notebook we will explore the main transactions done "
   ]
  },
  {
   "cell_type": "code",
   "execution_count": 101,
   "metadata": {},
   "outputs": [],
   "source": [
    "import pymongo as pg\n",
    "from pprint import pprint\n",
    "import datetime"
   ]
  },
  {
   "cell_type": "code",
   "execution_count": 102,
   "metadata": {},
   "outputs": [],
   "source": [
    "client=pg.MongoClient()\n",
    "db=client.test"
   ]
  },
  {
   "cell_type": "code",
   "execution_count": 103,
   "metadata": {
    "scrolled": true
   },
   "outputs": [
    {
     "name": "stdout",
     "output_type": "stream",
     "text": [
      "{'_id': ObjectId('5cc24fa2506c7dd3deefb890'), 'address': {'building': '469', 'coord': [-73.961704, 40.662942], 'street': 'Flatbush Avenue', 'zipcode': '11225'}, 'borough': 'Brooklyn', 'cuisine': 'Hamburgers', 'grades': [{'date': datetime.datetime(2014, 12, 30, 0, 0), 'grade': 'A', 'score': 8}, {'date': datetime.datetime(2014, 7, 1, 0, 0), 'grade': 'B', 'score': 23}, {'date': datetime.datetime(2013, 4, 30, 0, 0), 'grade': 'A', 'score': 12}, {'date': datetime.datetime(2012, 5, 8, 0, 0), 'grade': 'A', 'score': 12}], 'name': \"Wendy'S\", 'restaurant_id': '30112340'}\n"
     ]
    }
   ],
   "source": [
    "print(db.restaurants.find_one())"
   ]
  },
  {
   "cell_type": "code",
   "execution_count": 104,
   "metadata": {},
   "outputs": [
    {
     "name": "stdout",
     "output_type": "stream",
     "text": [
      "{'_id': ObjectId('5cc24fa2506c7dd3deefb890'),\n",
      " 'address': {'building': '469',\n",
      "             'coord': [-73.961704, 40.662942],\n",
      "             'street': 'Flatbush Avenue',\n",
      "             'zipcode': '11225'},\n",
      " 'borough': 'Brooklyn',\n",
      " 'cuisine': 'Hamburgers',\n",
      " 'grades': [{'date': datetime.datetime(2014, 12, 30, 0, 0),\n",
      "             'grade': 'A',\n",
      "             'score': 8},\n",
      "            {'date': datetime.datetime(2014, 7, 1, 0, 0),\n",
      "             'grade': 'B',\n",
      "             'score': 23},\n",
      "            {'date': datetime.datetime(2013, 4, 30, 0, 0),\n",
      "             'grade': 'A',\n",
      "             'score': 12},\n",
      "            {'date': datetime.datetime(2012, 5, 8, 0, 0),\n",
      "             'grade': 'A',\n",
      "             'score': 12}],\n",
      " 'name': \"Wendy'S\",\n",
      " 'restaurant_id': '30112340'}\n"
     ]
    }
   ],
   "source": [
    "pprint(db.restaurants.find_one())"
   ]
  },
  {
   "cell_type": "code",
   "execution_count": 105,
   "metadata": {},
   "outputs": [
    {
     "name": "stderr",
     "output_type": "stream",
     "text": [
      "C:\\Users\\YsfEss\\Anaconda3\\lib\\site-packages\\ipykernel_launcher.py:1: DeprecationWarning: count is deprecated. Use estimated_document_count or count_documents instead. Please note that $where must be replaced by $expr, $near must be replaced by $geoWithin with $center, and $nearSphere must be replaced by $geoWithin with $centerSphere\n",
      "  \"\"\"Entry point for launching an IPython kernel.\n"
     ]
    },
    {
     "data": {
      "text/plain": [
       "25359"
      ]
     },
     "execution_count": 105,
     "metadata": {},
     "output_type": "execute_result"
    }
   ],
   "source": [
    "db.restaurants.count()"
   ]
  },
  {
   "cell_type": "code",
   "execution_count": 106,
   "metadata": {},
   "outputs": [
    {
     "data": {
      "text/plain": [
       "<pymongo.results.InsertOneResult at 0x25c8da6ac08>"
      ]
     },
     "execution_count": 106,
     "metadata": {},
     "output_type": "execute_result"
    }
   ],
   "source": [
    "db.restaurants.insert_one(\n",
    "{\n",
    "\"address\" : {\n",
    "\"street\" : \"2 Avenue\",\n",
    "\"zipcode\" : \"10075\",\n",
    "\"building\" : \"1480\",\n",
    "\"coord\" : [ -73.9557413, 40.7720266 ]\n",
    "},\n",
    "\"borough\" : \"Manhattan\",\n",
    "\"cuisine\" : \"Italian\",\n",
    "\"grades\" : [\n",
    "{\n",
    "\"date\" : datetime.datetime(2014, 10, 1, 0, 0, 0, 0),\n",
    "    \"grade\" : \"A\",\n",
    "\"score\" : 11\n",
    "},\n",
    "{\n",
    "\"date\" : datetime.datetime(2014, 1, 16, 0, 0, 0, 0),\n",
    "\"grade\" : \"B\",\n",
    "\"score\" : 17\n",
    "}\n",
    "],\n",
    "\"name\" : \"Vella\",\n",
    "\"restaurant_id\" : \"41704620\"\n",
    "}\n",
    ")"
   ]
  },
  {
   "cell_type": "code",
   "execution_count": 107,
   "metadata": {},
   "outputs": [
    {
     "name": "stderr",
     "output_type": "stream",
     "text": [
      "C:\\Users\\YsfEss\\Anaconda3\\lib\\site-packages\\ipykernel_launcher.py:1: DeprecationWarning: count is deprecated. Use estimated_document_count or count_documents instead. Please note that $where must be replaced by $expr, $near must be replaced by $geoWithin with $center, and $nearSphere must be replaced by $geoWithin with $centerSphere\n",
      "  \"\"\"Entry point for launching an IPython kernel.\n"
     ]
    },
    {
     "data": {
      "text/plain": [
       "25360"
      ]
     },
     "execution_count": 107,
     "metadata": {},
     "output_type": "execute_result"
    }
   ],
   "source": [
    "db.restaurants.count()"
   ]
  },
  {
   "cell_type": "markdown",
   "metadata": {},
   "source": [
    "# Updating Top-level fields:"
   ]
  },
  {
   "cell_type": "code",
   "execution_count": 108,
   "metadata": {},
   "outputs": [
    {
     "name": "stdout",
     "output_type": "stream",
     "text": [
      "{'_id': ObjectId('5cc24fa2506c7dd3deeffd8b'),\n",
      " 'address': {'building': '1480',\n",
      "             'coord': [-73.9557413, 40.7720266],\n",
      "             'street': '2 Avenue',\n",
      "             'zipcode': '10075'},\n",
      " 'borough': 'Manhattan',\n",
      " 'cuisine': 'Italian',\n",
      " 'grades': [{'date': datetime.datetime(2014, 10, 1, 0, 0),\n",
      "             'grade': 'A',\n",
      "             'score': 11},\n",
      "            {'date': datetime.datetime(2014, 1, 16, 0, 0),\n",
      "             'grade': 'B',\n",
      "             'score': 17}],\n",
      " 'name': 'Vella',\n",
      " 'restaurant_id': '41704620'}\n",
      "{'_id': ObjectId('5cc24fa2506c7dd3deeffd8b'),\n",
      " 'address': {'building': '1480',\n",
      "             'coord': [-73.9557413, 40.7720266],\n",
      "             'street': '2 Avenue',\n",
      "             'zipcode': '10075'},\n",
      " 'borough': 'Manhattan',\n",
      " 'cuisine': 'American(New)',\n",
      " 'grades': [{'date': datetime.datetime(2014, 10, 1, 0, 0),\n",
      "             'grade': 'A',\n",
      "             'score': 11},\n",
      "            {'date': datetime.datetime(2014, 1, 16, 0, 0),\n",
      "             'grade': 'B',\n",
      "             'score': 17}],\n",
      " 'name': 'Vella',\n",
      " 'restaurant_id': '41704620'}\n"
     ]
    }
   ],
   "source": [
    "queryF = { \"name\": \"Vella\" }\n",
    "pprint(db.restaurants.find_one(queryF))\n",
    "newValues={\"$set\":{\"cuisine\":\"American(New)\"}}\n",
    "db.restaurants.update_one(queryF,newValues)\n",
    "pprint(db.restaurants.find_one(queryF))"
   ]
  },
  {
   "cell_type": "markdown",
   "metadata": {},
   "source": [
    "# Updating Embedded fields:"
   ]
  },
  {
   "cell_type": "code",
   "execution_count": 111,
   "metadata": {},
   "outputs": [
    {
     "name": "stdout",
     "output_type": "stream",
     "text": [
      "{'_id': ObjectId('5cc24fa2506c7dd3deefd020'),\n",
      " 'address': {'building': '12',\n",
      "             'coord': [-73.9852329, 40.745971],\n",
      "             'street': 'East 31 Street',\n",
      "             'zipcode': '10016'},\n",
      " 'adresse': {'street': 'East 31st Street'},\n",
      " 'borough': 'Manhattan',\n",
      " 'cuisine': 'American',\n",
      " 'grades': [{'date': datetime.datetime(2014, 9, 19, 0, 0),\n",
      "             'grade': 'A',\n",
      "             'score': 12},\n",
      "            {'date': datetime.datetime(2013, 8, 5, 0, 0),\n",
      "             'grade': 'A',\n",
      "             'score': 5},\n",
      "            {'date': datetime.datetime(2012, 6, 7, 0, 0),\n",
      "             'grade': 'A',\n",
      "             'score': 0}],\n",
      " 'name': 'Juni',\n",
      " 'restaurant_id': '41156888'}\n",
      "{'_id': ObjectId('5cc24fa2506c7dd3deefd020'),\n",
      " 'address': {'building': '12',\n",
      "             'coord': [-73.9852329, 40.745971],\n",
      "             'street': 'East 31 Street',\n",
      "             'zipcode': '10016'},\n",
      " 'adresse': {'street': 'East 41st Street'},\n",
      " 'borough': 'Manhattan',\n",
      " 'cuisine': 'American',\n",
      " 'grades': [{'date': datetime.datetime(2014, 9, 19, 0, 0),\n",
      "             'grade': 'A',\n",
      "             'score': 12},\n",
      "            {'date': datetime.datetime(2013, 8, 5, 0, 0),\n",
      "             'grade': 'A',\n",
      "             'score': 5},\n",
      "            {'date': datetime.datetime(2012, 6, 7, 0, 0),\n",
      "             'grade': 'A',\n",
      "             'score': 0}],\n",
      " 'name': 'Juni',\n",
      " 'restaurant_id': '41156888'}\n"
     ]
    }
   ],
   "source": [
    "query2 = { \"restaurant_id\": \"41156888\" }\n",
    "pprint(db.restaurants.find_one(query2))\n",
    "newValues={\"$set\":{\"adresse.street\":\"East 41st Street\"}}\n",
    "db.restaurants.update_one(query2,newValues)\n",
    "pprint(db.restaurants.find_one(query2))"
   ]
  },
  {
   "cell_type": "code",
   "execution_count": null,
   "metadata": {},
   "outputs": [],
   "source": []
  },
  {
   "cell_type": "code",
   "execution_count": null,
   "metadata": {},
   "outputs": [],
   "source": []
  }
 ],
 "metadata": {
  "kernelspec": {
   "display_name": "Python 3",
   "language": "python",
   "name": "python3"
  },
  "language_info": {
   "codemirror_mode": {
    "name": "ipython",
    "version": 3
   },
   "file_extension": ".py",
   "mimetype": "text/x-python",
   "name": "python",
   "nbconvert_exporter": "python",
   "pygments_lexer": "ipython3",
   "version": "3.6.4"
  }
 },
 "nbformat": 4,
 "nbformat_minor": 2
}
