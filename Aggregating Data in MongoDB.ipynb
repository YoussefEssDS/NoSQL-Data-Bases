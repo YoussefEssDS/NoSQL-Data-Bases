{
 "cells": [
  {
   "cell_type": "markdown",
   "metadata": {},
   "source": [
    "# Indexing in MongoDB:"
   ]
  },
  {
   "cell_type": "markdown",
   "metadata": {},
   "source": [
    "## Single-field indexes:"
   ]
  },
  {
   "cell_type": "markdown",
   "metadata": {},
   "source": [
    "Let's evaluate the two situations -where we used index and the one in which we don't- performance wise.\n",
    "\n",
    "Let's query the restaurant with: 41156888 as id."
   ]
  },
  {
   "cell_type": "code",
   "execution_count": 15,
   "metadata": {},
   "outputs": [],
   "source": [
    "import pymongo as pg #Among other things handles conncection between the db and python environement \n",
    "from pprint import pprint #pretty print\n",
    "import datetime #Needed to format the datetime input later on.\n",
    "import pandas as pd"
   ]
  },
  {
   "cell_type": "code",
   "execution_count": 3,
   "metadata": {},
   "outputs": [],
   "source": [
    "client=pg.MongoClient()\n",
    "db=client.test"
   ]
  },
  {
   "cell_type": "code",
   "execution_count": 6,
   "metadata": {},
   "outputs": [
    {
     "data": {
      "text/plain": [
       "{'_id': ObjectId('5cccb9c3d398404a2c2a03ea'),\n",
       " 'address': {'building': '351',\n",
       "  'coord': [-73.98513559999999, 40.7676919],\n",
       "  'street': 'West   57 Street',\n",
       "  'zipcode': '10019'},\n",
       " 'borough': 'Manhattan',\n",
       " 'cuisine': 'Irish',\n",
       " 'grades': [{'date': datetime.datetime(2014, 9, 6, 0, 0),\n",
       "   'grade': 'A',\n",
       "   'score': 2},\n",
       "  {'date': datetime.datetime(2013, 7, 22, 0, 0), 'grade': 'A', 'score': 11},\n",
       "  {'date': datetime.datetime(2012, 7, 31, 0, 0), 'grade': 'A', 'score': 12},\n",
       "  {'date': datetime.datetime(2011, 12, 29, 0, 0), 'grade': 'A', 'score': 12}],\n",
       " 'name': 'Dj Reynolds Pub And Restaurant',\n",
       " 'restaurant_id': '30191841'}"
      ]
     },
     "execution_count": 6,
     "metadata": {},
     "output_type": "execute_result"
    }
   ],
   "source": [
    "db.restaurants.find_one()"
   ]
  },
  {
   "cell_type": "code",
   "execution_count": 31,
   "metadata": {},
   "outputs": [
    {
     "name": "stdout",
     "output_type": "stream",
     "text": [
      "Straight search\n"
     ]
    },
    {
     "data": {
      "text/html": [
       "<div>\n",
       "<style scoped>\n",
       "    .dataframe tbody tr th:only-of-type {\n",
       "        vertical-align: middle;\n",
       "    }\n",
       "\n",
       "    .dataframe tbody tr th {\n",
       "        vertical-align: top;\n",
       "    }\n",
       "\n",
       "    .dataframe thead th {\n",
       "        text-align: right;\n",
       "    }\n",
       "</style>\n",
       "<table border=\"1\" class=\"dataframe\">\n",
       "  <thead>\n",
       "    <tr style=\"text-align: right;\">\n",
       "      <th></th>\n",
       "      <th>Examined documents</th>\n",
       "      <th>Num of results</th>\n",
       "      <th>Time to execute(ms)</th>\n",
       "    </tr>\n",
       "  </thead>\n",
       "  <tbody>\n",
       "    <tr>\n",
       "      <th>0</th>\n",
       "      <td>25359</td>\n",
       "      <td>1</td>\n",
       "      <td>30</td>\n",
       "    </tr>\n",
       "  </tbody>\n",
       "</table>\n",
       "</div>"
      ],
      "text/plain": [
       "   Examined documents  Num of results  Time to execute(ms)\n",
       "0               25359               1                   30"
      ]
     },
     "execution_count": 31,
     "metadata": {},
     "output_type": "execute_result"
    }
   ],
   "source": [
    "print(\"Straight search\")\n",
    "res=db.restaurants.find({'restaurant_id':'41156888'}).explain()\n",
    "pd.DataFrame({'Examined documents':[res['executionStats']['totalDocsExamined']],'Time to execute(ms)':[res['executionStats']['executionTimeMillis']],'Num of results':[res['executionStats']['nReturned']]})"
   ]
  },
  {
   "cell_type": "markdown",
   "metadata": {},
   "source": [
    "We examined all the files! (British museum search)."
   ]
  },
  {
   "cell_type": "code",
   "execution_count": 39,
   "metadata": {},
   "outputs": [
    {
     "name": "stdout",
     "output_type": "stream",
     "text": [
      "Using limit(1)\n"
     ]
    },
    {
     "data": {
      "text/html": [
       "<div>\n",
       "<style scoped>\n",
       "    .dataframe tbody tr th:only-of-type {\n",
       "        vertical-align: middle;\n",
       "    }\n",
       "\n",
       "    .dataframe tbody tr th {\n",
       "        vertical-align: top;\n",
       "    }\n",
       "\n",
       "    .dataframe thead th {\n",
       "        text-align: right;\n",
       "    }\n",
       "</style>\n",
       "<table border=\"1\" class=\"dataframe\">\n",
       "  <thead>\n",
       "    <tr style=\"text-align: right;\">\n",
       "      <th></th>\n",
       "      <th>Examined documents</th>\n",
       "      <th>Num of results</th>\n",
       "      <th>Time to execute(ms)</th>\n",
       "    </tr>\n",
       "  </thead>\n",
       "  <tbody>\n",
       "    <tr>\n",
       "      <th>0</th>\n",
       "      <td>6027</td>\n",
       "      <td>1</td>\n",
       "      <td>8</td>\n",
       "    </tr>\n",
       "  </tbody>\n",
       "</table>\n",
       "</div>"
      ],
      "text/plain": [
       "   Examined documents  Num of results  Time to execute(ms)\n",
       "0                6027               1                    8"
      ]
     },
     "execution_count": 39,
     "metadata": {},
     "output_type": "execute_result"
    }
   ],
   "source": [
    "print('Using limit(1)')\n",
    "limres=db.restaurants.find({'restaurant_id':'41156888'}).limit(1).explain()\n",
    "pd.DataFrame({'Examined documents':[limres['executionStats']['totalDocsExamined']],'Time to execute(ms)':[limres['executionStats']['executionTimeMillis']],'Num of results':[limres['executionStats']['nReturned']]})"
   ]
  },
  {
   "cell_type": "markdown",
   "metadata": {},
   "source": [
    "There is a considerable decrease for both the number of examined files and the execution time. Although, this is not a very attractive way for tackling this problem of query performance in general, and that's because...well for starters, it's not always the case that we are looking only for one of the documents fulfilling the given condition. In this case since the restaurant id is unique, it's quite convenient, we get the same result as a full search with a lower cost...In fact, the research starts and once it founds a result matching, it stops so we get that sense of improved performance while it's only due to finding the wanted result sooner rather than later (It could have found it much later and the performance wouldn't be this good). More technically speaking, limit() determinates how many time we are going to iterate over the cursor (that contains the result of the query) in order to generate the returned value. If we are going to iterate only once, once a result is obtained continuing has no meaning. So it's improved performance but it's 'fake' improvement, in other words there is no heuristic (when it comes to limit()) that optimizes the search within the documents. General queries don't always get this convenient. "
   ]
  },
  {
   "cell_type": "markdown",
   "metadata": {},
   "source": [
    "Indexes are a great way to optimize queries like this because they organize data by a given field to let MongoDB find it\n",
    "\n",
    "quickly. We will try to create an index on the retaurant_id field:"
   ]
  },
  {
   "cell_type": "markdown",
   "metadata": {},
   "source": [
    "### Index creation:"
   ]
  },
  {
   "cell_type": "code",
   "execution_count": 54,
   "metadata": {},
   "outputs": [
    {
     "data": {
      "text/plain": [
       "'restaurant_id_1'"
      ]
     },
     "execution_count": 54,
     "metadata": {},
     "output_type": "execute_result"
    }
   ],
   "source": [
    "db.restaurants.create_index('restaurant_id') #Create index on the restaurant_id field."
   ]
  },
  {
   "cell_type": "code",
   "execution_count": 59,
   "metadata": {},
   "outputs": [
    {
     "name": "stdout",
     "output_type": "stream",
     "text": [
      "{'_id_': {'key': [('_id', 1)], 'ns': 'test.restaurants', 'v': 2},\n",
      " 'restaurant_id_1': {'key': [('restaurant_id', 1)],\n",
      "                     'ns': 'test.restaurants',\n",
      "                     'v': 2}}\n"
     ]
    }
   ],
   "source": [
    "pprint(db.restaurants.index_information())"
   ]
  },
  {
   "cell_type": "code",
   "execution_count": 61,
   "metadata": {},
   "outputs": [
    {
     "name": "stdout",
     "output_type": "stream",
     "text": [
      "Indexed search:\n"
     ]
    },
    {
     "data": {
      "text/html": [
       "<div>\n",
       "<style scoped>\n",
       "    .dataframe tbody tr th:only-of-type {\n",
       "        vertical-align: middle;\n",
       "    }\n",
       "\n",
       "    .dataframe tbody tr th {\n",
       "        vertical-align: top;\n",
       "    }\n",
       "\n",
       "    .dataframe thead th {\n",
       "        text-align: right;\n",
       "    }\n",
       "</style>\n",
       "<table border=\"1\" class=\"dataframe\">\n",
       "  <thead>\n",
       "    <tr style=\"text-align: right;\">\n",
       "      <th></th>\n",
       "      <th>Examined documents</th>\n",
       "      <th>Num of results</th>\n",
       "      <th>Time to execute(ms)</th>\n",
       "    </tr>\n",
       "  </thead>\n",
       "  <tbody>\n",
       "    <tr>\n",
       "      <th>0</th>\n",
       "      <td>760</td>\n",
       "      <td>14</td>\n",
       "      <td>1</td>\n",
       "    </tr>\n",
       "  </tbody>\n",
       "</table>\n",
       "</div>"
      ],
      "text/plain": [
       "   Examined documents  Num of results  Time to execute(ms)\n",
       "0                 760              14                    1"
      ]
     },
     "execution_count": 61,
     "metadata": {},
     "output_type": "execute_result"
    }
   ],
   "source": [
    "print(\"Indexed search:\")\n",
    "Indres=db.restaurants.find({'restaurant_id':'41156888'}).explain()\n",
    "pd.DataFrame({'Examined documents':[res['executionStats']['totalDocsExamined']],'Time to execute(ms)':[res['executionStats']['executionTimeMillis']],'Num of results':[res['executionStats']['nReturned']]})"
   ]
  },
  {
   "cell_type": "markdown",
   "metadata": {},
   "source": [
    "Best performance so far, thing to be expected. Although this gives great read peerformance although it hurts the insertion performances when we have a lot of them, since they too need update at each transaction. So the task of choosing fields to index is really important keeping in mind this trade-off."
   ]
  },
  {
   "cell_type": "markdown",
   "metadata": {},
   "source": [
    "## Compound indexes:"
   ]
  },
  {
   "cell_type": "code",
   "execution_count": null,
   "metadata": {},
   "outputs": [],
   "source": []
  },
  {
   "cell_type": "code",
   "execution_count": null,
   "metadata": {},
   "outputs": [],
   "source": []
  }
 ],
 "metadata": {
  "kernelspec": {
   "display_name": "Python 3",
   "language": "python",
   "name": "python3"
  },
  "language_info": {
   "codemirror_mode": {
    "name": "ipython",
    "version": 3
   },
   "file_extension": ".py",
   "mimetype": "text/x-python",
   "name": "python",
   "nbconvert_exporter": "python",
   "pygments_lexer": "ipython3",
   "version": "3.6.4"
  }
 },
 "nbformat": 4,
 "nbformat_minor": 2
}
