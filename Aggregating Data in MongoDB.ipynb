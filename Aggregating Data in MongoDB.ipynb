{
 "cells": [
  {
   "cell_type": "markdown",
   "metadata": {},
   "source": [
    "# Indexing in MongoDB:"
   ]
  },
  {
   "cell_type": "markdown",
   "metadata": {},
   "source": [
    "## Single-field indexes:"
   ]
  },
  {
   "cell_type": "markdown",
   "metadata": {},
   "source": [
    "Let's evaluate the two situations -where we used index and the one in which we don't- performance wise.\n",
    "\n",
    "Let's query the restaurant with: 41156888 as id."
   ]
  },
  {
   "cell_type": "code",
   "execution_count": 3,
   "metadata": {},
   "outputs": [],
   "source": [
    "import pymongo as pg #Among other things handles conncection between the db and python environement \n",
    "from pprint import pprint #pretty print\n",
    "import datetime #Needed to format the datetime input later on.\n",
    "import pandas as pd"
   ]
  },
  {
   "cell_type": "code",
   "execution_count": 4,
   "metadata": {},
   "outputs": [],
   "source": [
    "client=pg.MongoClient()\n",
    "db=client.test"
   ]
  },
  {
   "cell_type": "code",
   "execution_count": 5,
   "metadata": {},
   "outputs": [
    {
     "data": {
      "text/plain": [
       "{'_id': ObjectId('5cce307bd398404a2c2a70da'),\n",
       " 'address': {'building': '469',\n",
       "  'coord': [-73.961704, 40.662942],\n",
       "  'street': 'Flatbush Avenue',\n",
       "  'zipcode': '11225'},\n",
       " 'borough': 'Brooklyn',\n",
       " 'cuisine': 'Hamburgers',\n",
       " 'grades': [{'date': datetime.datetime(2014, 12, 30, 0, 0),\n",
       "   'grade': 'A',\n",
       "   'score': 8},\n",
       "  {'date': datetime.datetime(2014, 7, 1, 0, 0), 'grade': 'B', 'score': 23},\n",
       "  {'date': datetime.datetime(2013, 4, 30, 0, 0), 'grade': 'A', 'score': 12},\n",
       "  {'date': datetime.datetime(2012, 5, 8, 0, 0), 'grade': 'A', 'score': 12}],\n",
       " 'name': \"Wendy'S\",\n",
       " 'restaurant_id': '30112340'}"
      ]
     },
     "execution_count": 5,
     "metadata": {},
     "output_type": "execute_result"
    }
   ],
   "source": [
    "db.restaurants.find_one()"
   ]
  },
  {
   "cell_type": "code",
   "execution_count": 101,
   "metadata": {},
   "outputs": [
    {
     "name": "stdout",
     "output_type": "stream",
     "text": [
      "Straight search\n"
     ]
    },
    {
     "data": {
      "text/html": [
       "<div>\n",
       "<style scoped>\n",
       "    .dataframe tbody tr th:only-of-type {\n",
       "        vertical-align: middle;\n",
       "    }\n",
       "\n",
       "    .dataframe tbody tr th {\n",
       "        vertical-align: top;\n",
       "    }\n",
       "\n",
       "    .dataframe thead th {\n",
       "        text-align: right;\n",
       "    }\n",
       "</style>\n",
       "<table border=\"1\" class=\"dataframe\">\n",
       "  <thead>\n",
       "    <tr style=\"text-align: right;\">\n",
       "      <th></th>\n",
       "      <th>Examined documents</th>\n",
       "      <th>Num of results</th>\n",
       "      <th>Time to execute(ms)</th>\n",
       "    </tr>\n",
       "  </thead>\n",
       "  <tbody>\n",
       "    <tr>\n",
       "      <th>0</th>\n",
       "      <td>25359</td>\n",
       "      <td>1</td>\n",
       "      <td>26</td>\n",
       "    </tr>\n",
       "  </tbody>\n",
       "</table>\n",
       "</div>"
      ],
      "text/plain": [
       "   Examined documents  Num of results  Time to execute(ms)\n",
       "0               25359               1                   26"
      ]
     },
     "execution_count": 101,
     "metadata": {},
     "output_type": "execute_result"
    }
   ],
   "source": [
    "print(\"Straight search\")\n",
    "res=db.restaurants.find({'restaurant_id':'41156888'}).explain()\n",
    "pd.DataFrame({'Examined documents':[res['executionStats']['totalDocsExamined']],'Time to execute(ms)':[res['executionStats']['executionTimeMillis']],'Num of results':[res['executionStats']['nReturned']]})"
   ]
  },
  {
   "cell_type": "markdown",
   "metadata": {},
   "source": [
    "We examined all the files! (British museum search)."
   ]
  },
  {
   "cell_type": "code",
   "execution_count": 102,
   "metadata": {},
   "outputs": [
    {
     "name": "stdout",
     "output_type": "stream",
     "text": [
      "Using limit(1)\n"
     ]
    },
    {
     "data": {
      "text/html": [
       "<div>\n",
       "<style scoped>\n",
       "    .dataframe tbody tr th:only-of-type {\n",
       "        vertical-align: middle;\n",
       "    }\n",
       "\n",
       "    .dataframe tbody tr th {\n",
       "        vertical-align: top;\n",
       "    }\n",
       "\n",
       "    .dataframe thead th {\n",
       "        text-align: right;\n",
       "    }\n",
       "</style>\n",
       "<table border=\"1\" class=\"dataframe\">\n",
       "  <thead>\n",
       "    <tr style=\"text-align: right;\">\n",
       "      <th></th>\n",
       "      <th>Examined documents</th>\n",
       "      <th>Num of results</th>\n",
       "      <th>Time to execute(ms)</th>\n",
       "    </tr>\n",
       "  </thead>\n",
       "  <tbody>\n",
       "    <tr>\n",
       "      <th>0</th>\n",
       "      <td>6027</td>\n",
       "      <td>1</td>\n",
       "      <td>10</td>\n",
       "    </tr>\n",
       "  </tbody>\n",
       "</table>\n",
       "</div>"
      ],
      "text/plain": [
       "   Examined documents  Num of results  Time to execute(ms)\n",
       "0                6027               1                   10"
      ]
     },
     "execution_count": 102,
     "metadata": {},
     "output_type": "execute_result"
    }
   ],
   "source": [
    "print('Using limit(1)')\n",
    "limres=db.restaurants.find({'restaurant_id':'41156888'}).limit(1).explain()\n",
    "pd.DataFrame({'Examined documents':[limres['executionStats']['totalDocsExamined']],'Time to execute(ms)':[limres['executionStats']['executionTimeMillis']],'Num of results':[limres['executionStats']['nReturned']]})"
   ]
  },
  {
   "cell_type": "markdown",
   "metadata": {},
   "source": [
    "There is a considerable decrease for both the number of examined files and the execution time. Although, this is not a very attractive way for tackling this problem of query performance in general, and that's because...well for starters, it's not always the case that we are looking only for one of the documents fulfilling the given condition. In this case since the restaurant id is unique, it's quite convenient, we get the same result as a full search with a lower cost...In fact, the research starts and once it founds a result matching, it stops so we get that sense of improved performance while it's only due to finding the wanted result sooner rather than later (It could have found it much later and the performance wouldn't be this good). More technically speaking, limit() determinates how many time we are going to iterate over the cursor (that contains the result of the query) in order to generate the returned value. If we are going to iterate only once, once a result is obtained continuing has no meaning. So it's improved performance but it's 'fake' improvement, in other words there is no heuristic (when it comes to limit()) that optimizes the search within the documents. General queries don't always get this convenient. "
   ]
  },
  {
   "cell_type": "markdown",
   "metadata": {},
   "source": [
    "Indexes are a great way to optimize queries like this because they organize data by a given field to let MongoDB find it\n",
    "\n",
    "quickly. We will try to create an index on the retaurant_id field:"
   ]
  },
  {
   "cell_type": "markdown",
   "metadata": {},
   "source": [
    "### Index creation:"
   ]
  },
  {
   "cell_type": "code",
   "execution_count": 103,
   "metadata": {},
   "outputs": [
    {
     "data": {
      "text/plain": [
       "'restaurant_id_1'"
      ]
     },
     "execution_count": 103,
     "metadata": {},
     "output_type": "execute_result"
    }
   ],
   "source": [
    "db.restaurants.create_index([('restaurant_id',1)]) #Create index on the restaurant_id field."
   ]
  },
  {
   "cell_type": "code",
   "execution_count": 117,
   "metadata": {},
   "outputs": [
    {
     "name": "stdout",
     "output_type": "stream",
     "text": [
      "{'_id_': {'key': [('_id', 1)], 'ns': 'test.restaurants', 'v': 2},\n",
      " 'cuisine_1': {'key': [('cuisine', 1)], 'ns': 'test.restaurants', 'v': 2}}\n"
     ]
    }
   ],
   "source": [
    "pprint(db.restaurants.index_information())"
   ]
  },
  {
   "cell_type": "code",
   "execution_count": 105,
   "metadata": {},
   "outputs": [
    {
     "name": "stdout",
     "output_type": "stream",
     "text": [
      "Indexed search:\n"
     ]
    },
    {
     "data": {
      "text/html": [
       "<div>\n",
       "<style scoped>\n",
       "    .dataframe tbody tr th:only-of-type {\n",
       "        vertical-align: middle;\n",
       "    }\n",
       "\n",
       "    .dataframe tbody tr th {\n",
       "        vertical-align: top;\n",
       "    }\n",
       "\n",
       "    .dataframe thead th {\n",
       "        text-align: right;\n",
       "    }\n",
       "</style>\n",
       "<table border=\"1\" class=\"dataframe\">\n",
       "  <thead>\n",
       "    <tr style=\"text-align: right;\">\n",
       "      <th></th>\n",
       "      <th>Examined documents</th>\n",
       "      <th>Num of results</th>\n",
       "      <th>Time to execute(ms)</th>\n",
       "    </tr>\n",
       "  </thead>\n",
       "  <tbody>\n",
       "    <tr>\n",
       "      <th>0</th>\n",
       "      <td>1</td>\n",
       "      <td>1</td>\n",
       "      <td>2</td>\n",
       "    </tr>\n",
       "  </tbody>\n",
       "</table>\n",
       "</div>"
      ],
      "text/plain": [
       "   Examined documents  Num of results  Time to execute(ms)\n",
       "0                   1               1                    2"
      ]
     },
     "execution_count": 105,
     "metadata": {},
     "output_type": "execute_result"
    }
   ],
   "source": [
    "print(\"Indexed search:\")\n",
    "Indres=db.restaurants.find({'restaurant_id':'41156888'}).explain()\n",
    "pd.DataFrame({'Examined documents':[Indres['executionStats']['totalDocsExamined']],'Time to execute(ms)':[Indres['executionStats']['executionTimeMillis']],'Num of results':[Indres['executionStats']['nReturned']]})"
   ]
  },
  {
   "cell_type": "markdown",
   "metadata": {},
   "source": [
    "Optimal performance! Thing to be expected. Although this gives great read peerformance although it hurts the insertion performances when we have a lot of indexes, since they too need update at each transaction. So the task of choosing fields to index is really important by keeping in mind this trade-off."
   ]
  },
  {
   "cell_type": "markdown",
   "metadata": {},
   "source": [
    "## Compound indexes:"
   ]
  },
  {
   "cell_type": "markdown",
   "metadata": {},
   "source": [
    "When your query has multiple sort directions or multiple keys in the criteria, it is useful to use a compound index,\n",
    "which is an index on more than one field. The order of fields listed in a compound index has significance. For\n",
    "instance, if a compound index consists of { userid: 1, score: -1 }, the index sorts first by userid and\n",
    "then, within each userid value, sorts by score."
   ]
  },
  {
   "cell_type": "code",
   "execution_count": 106,
   "metadata": {},
   "outputs": [],
   "source": [
    "db.restaurants.drop_index('restaurant_id_1') #Dropping the single index created earlier."
   ]
  },
  {
   "cell_type": "code",
   "execution_count": 122,
   "metadata": {},
   "outputs": [
    {
     "data": {
      "text/plain": [
       "'cuisine_1_name_-1'"
      ]
     },
     "execution_count": 122,
     "metadata": {},
     "output_type": "execute_result"
    }
   ],
   "source": [
    "db.restaurants.create_index([('cuisine',1),('name',-1)])"
   ]
  },
  {
   "cell_type": "code",
   "execution_count": 125,
   "metadata": {},
   "outputs": [
    {
     "data": {
      "text/html": [
       "<div>\n",
       "<style scoped>\n",
       "    .dataframe tbody tr th:only-of-type {\n",
       "        vertical-align: middle;\n",
       "    }\n",
       "\n",
       "    .dataframe tbody tr th {\n",
       "        vertical-align: top;\n",
       "    }\n",
       "\n",
       "    .dataframe thead th {\n",
       "        text-align: right;\n",
       "    }\n",
       "</style>\n",
       "<table border=\"1\" class=\"dataframe\">\n",
       "  <thead>\n",
       "    <tr style=\"text-align: right;\">\n",
       "      <th></th>\n",
       "      <th>Examined documents</th>\n",
       "      <th>Num of results</th>\n",
       "      <th>Time to execute(ms)</th>\n",
       "    </tr>\n",
       "  </thead>\n",
       "  <tbody>\n",
       "    <tr>\n",
       "      <th>0</th>\n",
       "      <td>15</td>\n",
       "      <td>15</td>\n",
       "      <td>0</td>\n",
       "    </tr>\n",
       "  </tbody>\n",
       "</table>\n",
       "</div>"
      ],
      "text/plain": [
       "   Examined documents  Num of results  Time to execute(ms)\n",
       "0                  15              15                    0"
      ]
     },
     "execution_count": 125,
     "metadata": {},
     "output_type": "execute_result"
    }
   ],
   "source": [
    "IndCres=db.restaurants.find({'cuisine':'Moroccan'}).sort('name').explain()\n",
    "pd.DataFrame({'Examined documents':[IndCres['executionStats']['totalDocsExamined']],'Time to execute(ms)':[IndCres['executionStats']['executionTimeMillis']],'Num of results':[IndCres['executionStats']['nReturned']]})"
   ]
  },
  {
   "cell_type": "markdown",
   "metadata": {},
   "source": [
    "Optimal yet again! The search goes straight to the goal.\n",
    "\n",
    "Let's query restaurants for which the cuisine is between: 'Pizza' & 'Mexican'."
   ]
  },
  {
   "cell_type": "code",
   "execution_count": 139,
   "metadata": {},
   "outputs": [
    {
     "data": {
      "text/html": [
       "<div>\n",
       "<style scoped>\n",
       "    .dataframe tbody tr th:only-of-type {\n",
       "        vertical-align: middle;\n",
       "    }\n",
       "\n",
       "    .dataframe tbody tr th {\n",
       "        vertical-align: top;\n",
       "    }\n",
       "\n",
       "    .dataframe thead th {\n",
       "        text-align: right;\n",
       "    }\n",
       "</style>\n",
       "<table border=\"1\" class=\"dataframe\">\n",
       "  <thead>\n",
       "    <tr style=\"text-align: right;\">\n",
       "      <th></th>\n",
       "      <th>Examined documents</th>\n",
       "      <th>Num of results</th>\n",
       "      <th>Time to execute(ms)</th>\n",
       "    </tr>\n",
       "  </thead>\n",
       "  <tbody>\n",
       "    <tr>\n",
       "      <th>0</th>\n",
       "      <td>1334</td>\n",
       "      <td>1334</td>\n",
       "      <td>5</td>\n",
       "    </tr>\n",
       "  </tbody>\n",
       "</table>\n",
       "</div>"
      ],
      "text/plain": [
       "   Examined documents  Num of results  Time to execute(ms)\n",
       "0                1334            1334                    5"
      ]
     },
     "execution_count": 139,
     "metadata": {},
     "output_type": "execute_result"
    }
   ],
   "source": [
    "result=db.restaurants.find({'$and':[{'cuisine':{'$gt':'Mexican'}},{'cuisine':{'$lt':'Pizza'}}]}).explain()\n",
    "pd.DataFrame({'Examined documents':[result['executionStats']['totalDocsExamined']],'Time to execute(ms)':[result['executionStats']['executionTimeMillis']],'Num of results':[result['executionStats']['nReturned']]})"
   ]
  },
  {
   "cell_type": "markdown",
   "metadata": {},
   "source": [
    "Optimal result!"
   ]
  },
  {
   "cell_type": "code",
   "execution_count": 142,
   "metadata": {},
   "outputs": [
    {
     "data": {
      "text/html": [
       "<div>\n",
       "<style scoped>\n",
       "    .dataframe tbody tr th:only-of-type {\n",
       "        vertical-align: middle;\n",
       "    }\n",
       "\n",
       "    .dataframe tbody tr th {\n",
       "        vertical-align: top;\n",
       "    }\n",
       "\n",
       "    .dataframe thead th {\n",
       "        text-align: right;\n",
       "    }\n",
       "</style>\n",
       "<table border=\"1\" class=\"dataframe\">\n",
       "  <thead>\n",
       "    <tr style=\"text-align: right;\">\n",
       "      <th></th>\n",
       "      <th>Examined documents</th>\n",
       "      <th>Num of results</th>\n",
       "      <th>Time to execute(ms)</th>\n",
       "    </tr>\n",
       "  </thead>\n",
       "  <tbody>\n",
       "    <tr>\n",
       "      <th>0</th>\n",
       "      <td>1334</td>\n",
       "      <td>1334</td>\n",
       "      <td>15</td>\n",
       "    </tr>\n",
       "  </tbody>\n",
       "</table>\n",
       "</div>"
      ],
      "text/plain": [
       "   Examined documents  Num of results  Time to execute(ms)\n",
       "0                1334            1334                   15"
      ]
     },
     "execution_count": 142,
     "metadata": {},
     "output_type": "execute_result"
    }
   ],
   "source": [
    "result=db.restaurants.find({'$and':[{'cuisine':{'$gt':'Mexican'}},{'cuisine':{'$lt':'Pizza'}}]}).sort('name').explain()\n",
    "pd.DataFrame({'Examined documents':[result['executionStats']['totalDocsExamined']],'Time to execute(ms)':[result['executionStats']['executionTimeMillis']],'Num of results':[result['executionStats']['nReturned']]})"
   ]
  },
  {
   "cell_type": "markdown",
   "metadata": {},
   "source": [
    "Time performance decreased due to the sorting done after fetching unordered data (name wise).\n",
    "\n",
    "Inversing the order of the compound index."
   ]
  },
  {
   "cell_type": "code",
   "execution_count": 145,
   "metadata": {},
   "outputs": [
    {
     "data": {
      "text/plain": [
       "'name_1_cuisine_1'"
      ]
     },
     "execution_count": 145,
     "metadata": {},
     "output_type": "execute_result"
    }
   ],
   "source": [
    "db.restaurants.create_index([('name',1),('cuisine',1)])"
   ]
  },
  {
   "cell_type": "code",
   "execution_count": 148,
   "metadata": {},
   "outputs": [
    {
     "data": {
      "text/html": [
       "<div>\n",
       "<style scoped>\n",
       "    .dataframe tbody tr th:only-of-type {\n",
       "        vertical-align: middle;\n",
       "    }\n",
       "\n",
       "    .dataframe tbody tr th {\n",
       "        vertical-align: top;\n",
       "    }\n",
       "\n",
       "    .dataframe thead th {\n",
       "        text-align: right;\n",
       "    }\n",
       "</style>\n",
       "<table border=\"1\" class=\"dataframe\">\n",
       "  <thead>\n",
       "    <tr style=\"text-align: right;\">\n",
       "      <th></th>\n",
       "      <th>Examined documents</th>\n",
       "      <th>Num of results</th>\n",
       "      <th>Time to execute(ms)</th>\n",
       "    </tr>\n",
       "  </thead>\n",
       "  <tbody>\n",
       "    <tr>\n",
       "      <th>0</th>\n",
       "      <td>25359</td>\n",
       "      <td>1334</td>\n",
       "      <td>87</td>\n",
       "    </tr>\n",
       "  </tbody>\n",
       "</table>\n",
       "</div>"
      ],
      "text/plain": [
       "   Examined documents  Num of results  Time to execute(ms)\n",
       "0               25359            1334                   87"
      ]
     },
     "execution_count": 148,
     "metadata": {},
     "output_type": "execute_result"
    }
   ],
   "source": [
    "resul=db.restaurants.find({'$and':[{'cuisine':{'$gt':'Mexican'}},{'cuisine':{'$lt':'Pizza'}}]}).hint('name_1_cuisine_1').sort('name').explain()\n",
    "pd.DataFrame({'Examined documents':[resul['executionStats']['totalDocsExamined']],'Time to execute(ms)':[resul['executionStats']['executionTimeMillis']],'Num of results':[resul['executionStats']['nReturned']]})"
   ]
  },
  {
   "cell_type": "markdown",
   "metadata": {},
   "source": [
    "## Aggregating data in MongoDB - Aggregation Pipeline:\n",
    "\n",
    "Aggregation operations group values from multiple documents together, and can perform a variety of operations on the grouped data to return a single result. Aggregation in MongoDB can be performed using MongoDB’s aggregation framework or MapReduce."
   ]
  },
  {
   "cell_type": "markdown",
   "metadata": {},
   "source": [
    "### MongoDB aggregation Pipeline:"
   ]
  },
  {
   "cell_type": "markdown",
   "metadata": {},
   "source": [
    "Each step of the pipeline maps to an aggregation framework operator. Each operator receives a stream of documents,\n",
    "does some type of transformation on these documents, and then passes on the results of the transformation. If it\n",
    "is the last pipeline operator, these results are returned to the client. Otherwise, the results are streamed to the next\n",
    "operator as input. Operators can be combined in any order and repeated as many times as necessary.\n",
    "\n",
    "In the db.collection.aggregate method, pipeline stages appear in an array. Documents pass through the stages in sequence."
   ]
  },
  {
   "cell_type": "markdown",
   "metadata": {},
   "source": [
    "### Pipeline Operations:\n",
    "\n",
    "#### $match:\n",
    "\n",
    "We generaly never not want to start our pipeline with this, since it will lighten the work mass done by the following pipeline operators. "
   ]
  },
  {
   "cell_type": "code",
   "execution_count": 41,
   "metadata": {},
   "outputs": [],
   "source": [
    "magr=db.restaurants.aggregate([{'$match':{'borough':'Manhattan'}}])"
   ]
  },
  {
   "cell_type": "markdown",
   "metadata": {},
   "source": [
    "It is important to note that the results of an aggregation are only one single use. After using it once it is destroyed."
   ]
  },
  {
   "cell_type": "code",
   "execution_count": 42,
   "metadata": {},
   "outputs": [
    {
     "name": "stdout",
     "output_type": "stream",
     "text": [
      "[{'_id': ObjectId('5cce307bd398404a2c2a70db'),\n",
      "  'address': {'building': '351',\n",
      "              'coord': [-73.98513559999999, 40.7676919],\n",
      "              'street': 'West   57 Street',\n",
      "              'zipcode': '10019'},\n",
      "  'borough': 'Manhattan',\n",
      "  'cuisine': 'Irish',\n",
      "  'grades': [{'date': datetime.datetime(2014, 9, 6, 0, 0),\n",
      "              'grade': 'A',\n",
      "              'score': 2},\n",
      "             {'date': datetime.datetime(2013, 7, 22, 0, 0),\n",
      "              'grade': 'A',\n",
      "              'score': 11},\n",
      "             {'date': datetime.datetime(2012, 7, 31, 0, 0),\n",
      "              'grade': 'A',\n",
      "              'score': 12},\n",
      "             {'date': datetime.datetime(2011, 12, 29, 0, 0),\n",
      "              'grade': 'A',\n",
      "              'score': 12}],\n",
      "  'name': 'Dj Reynolds Pub And Restaurant',\n",
      "  'restaurant_id': '30191841'},\n",
      " {'_id': ObjectId('5cce307bd398404a2c2a70e6'),\n",
      "  'address': {'building': '1',\n",
      "              'coord': [-73.96926909999999, 40.7685235],\n",
      "              'street': 'East   66 Street',\n",
      "              'zipcode': '10065'},\n",
      "  'borough': 'Manhattan',\n",
      "  'cuisine': 'American',\n",
      "  'grades': [{'date': datetime.datetime(2014, 5, 7, 0, 0),\n",
      "              'grade': 'A',\n",
      "              'score': 3},\n",
      "             {'date': datetime.datetime(2013, 5, 3, 0, 0),\n",
      "              'grade': 'A',\n",
      "              'score': 4},\n",
      "             {'date': datetime.datetime(2012, 4, 30, 0, 0),\n",
      "              'grade': 'A',\n",
      "              'score': 6},\n",
      "             {'date': datetime.datetime(2011, 12, 27, 0, 0),\n",
      "              'grade': 'A',\n",
      "              'score': 0}],\n",
      "  'name': '1 East 66Th Street Kitchen',\n",
      "  'restaurant_id': '40359480'},\n",
      " {'_id': ObjectId('5cce307bd398404a2c2a70ed'),\n",
      "  'address': {'building': '522',\n",
      "              'coord': [-73.95171, 40.767461],\n",
      "              'street': 'East   74 Street',\n",
      "              'zipcode': '10021'},\n",
      "  'borough': 'Manhattan',\n",
      "  'cuisine': 'American',\n",
      "  'grades': [{'date': datetime.datetime(2014, 9, 2, 0, 0),\n",
      "              'grade': 'A',\n",
      "              'score': 12},\n",
      "             {'date': datetime.datetime(2013, 12, 19, 0, 0),\n",
      "              'grade': 'B',\n",
      "              'score': 16},\n",
      "             {'date': datetime.datetime(2013, 5, 28, 0, 0),\n",
      "              'grade': 'A',\n",
      "              'score': 9},\n",
      "             {'date': datetime.datetime(2012, 12, 7, 0, 0),\n",
      "              'grade': 'A',\n",
      "              'score': 13},\n",
      "             {'date': datetime.datetime(2012, 3, 29, 0, 0),\n",
      "              'grade': 'A',\n",
      "              'score': 11}],\n",
      "  'name': 'Glorious Food',\n",
      "  'restaurant_id': '40361521'},\n",
      " {'_id': ObjectId('5cce307bd398404a2c2a70f0'),\n",
      "  'address': {'building': '502',\n",
      "              'coord': [-73.976112, 40.786714],\n",
      "              'street': 'Amsterdam Avenue',\n",
      "              'zipcode': '10024'},\n",
      "  'borough': 'Manhattan',\n",
      "  'cuisine': 'Chicken',\n",
      "  'grades': [{'date': datetime.datetime(2014, 9, 15, 0, 0),\n",
      "              'grade': 'A',\n",
      "              'score': 10},\n",
      "             {'date': datetime.datetime(2014, 3, 4, 0, 0),\n",
      "              'grade': 'A',\n",
      "              'score': 13},\n",
      "             {'date': datetime.datetime(2013, 7, 18, 0, 0),\n",
      "              'grade': 'A',\n",
      "              'score': 13},\n",
      "             {'date': datetime.datetime(2013, 1, 9, 0, 0),\n",
      "              'grade': 'A',\n",
      "              'score': 11},\n",
      "             {'date': datetime.datetime(2012, 4, 10, 0, 0),\n",
      "              'grade': 'A',\n",
      "              'score': 10},\n",
      "             {'date': datetime.datetime(2011, 11, 15, 0, 0),\n",
      "              'grade': 'A',\n",
      "              'score': 7}],\n",
      "  'name': \"Harriet'S Kitchen\",\n",
      "  'restaurant_id': '40362098'},\n",
      " {'_id': ObjectId('5cce307bd398404a2c2a70f1'),\n",
      "  'address': {'building': '730',\n",
      "              'coord': [-73.96805719999999, 40.7925587],\n",
      "              'street': 'Columbus Avenue',\n",
      "              'zipcode': '10025'},\n",
      "  'borough': 'Manhattan',\n",
      "  'cuisine': 'American',\n",
      "  'grades': [{'date': datetime.datetime(2014, 9, 12, 0, 0),\n",
      "              'grade': 'B',\n",
      "              'score': 26},\n",
      "             {'date': datetime.datetime(2013, 8, 28, 0, 0),\n",
      "              'grade': 'A',\n",
      "              'score': 9},\n",
      "             {'date': datetime.datetime(2013, 3, 25, 0, 0),\n",
      "              'grade': 'B',\n",
      "              'score': 20},\n",
      "             {'date': datetime.datetime(2012, 2, 14, 0, 0),\n",
      "              'grade': 'A',\n",
      "              'score': 12}],\n",
      "  'name': 'P & S Deli Grocery',\n",
      "  'restaurant_id': '40362264'}]\n"
     ]
    }
   ],
   "source": [
    "pprint(list(magr)[0:5])"
   ]
  },
  {
   "cell_type": "markdown",
   "metadata": {},
   "source": [
    "#### $project:\n",
    "\n",
    "Allows us to select only certain number of fields of interest, and also to rename fields. \n",
    "Let's add this to our original pipeline by only returning the name and grades of the restaurants and let's rename these two to respectively: restaurantName and restaurantGrades. "
   ]
  },
  {
   "cell_type": "code",
   "execution_count": 66,
   "metadata": {},
   "outputs": [],
   "source": [
    "mpagr=db.restaurants.aggregate([\n",
    "    {'$match':{'borough':'Manhattan'}},\n",
    "    {'$project':{'restaurantName':'$name','restaurantGrades':'$grades'}}])"
   ]
  },
  {
   "cell_type": "code",
   "execution_count": 50,
   "metadata": {},
   "outputs": [
    {
     "name": "stdout",
     "output_type": "stream",
     "text": [
      "[{'_id': ObjectId('5cce307bd398404a2c2a70db'),\n",
      "  'restaurantGrades': [{'date': datetime.datetime(2014, 9, 6, 0, 0),\n",
      "                        'grade': 'A',\n",
      "                        'score': 2},\n",
      "                       {'date': datetime.datetime(2013, 7, 22, 0, 0),\n",
      "                        'grade': 'A',\n",
      "                        'score': 11},\n",
      "                       {'date': datetime.datetime(2012, 7, 31, 0, 0),\n",
      "                        'grade': 'A',\n",
      "                        'score': 12},\n",
      "                       {'date': datetime.datetime(2011, 12, 29, 0, 0),\n",
      "                        'grade': 'A',\n",
      "                        'score': 12}],\n",
      "  'restaurantName': 'Dj Reynolds Pub And Restaurant'},\n",
      " {'_id': ObjectId('5cce307bd398404a2c2a70e6'),\n",
      "  'restaurantGrades': [{'date': datetime.datetime(2014, 5, 7, 0, 0),\n",
      "                        'grade': 'A',\n",
      "                        'score': 3},\n",
      "                       {'date': datetime.datetime(2013, 5, 3, 0, 0),\n",
      "                        'grade': 'A',\n",
      "                        'score': 4},\n",
      "                       {'date': datetime.datetime(2012, 4, 30, 0, 0),\n",
      "                        'grade': 'A',\n",
      "                        'score': 6},\n",
      "                       {'date': datetime.datetime(2011, 12, 27, 0, 0),\n",
      "                        'grade': 'A',\n",
      "                        'score': 0}],\n",
      "  'restaurantName': '1 East 66Th Street Kitchen'},\n",
      " {'_id': ObjectId('5cce307bd398404a2c2a70ed'),\n",
      "  'restaurantGrades': [{'date': datetime.datetime(2014, 9, 2, 0, 0),\n",
      "                        'grade': 'A',\n",
      "                        'score': 12},\n",
      "                       {'date': datetime.datetime(2013, 12, 19, 0, 0),\n",
      "                        'grade': 'B',\n",
      "                        'score': 16},\n",
      "                       {'date': datetime.datetime(2013, 5, 28, 0, 0),\n",
      "                        'grade': 'A',\n",
      "                        'score': 9},\n",
      "                       {'date': datetime.datetime(2012, 12, 7, 0, 0),\n",
      "                        'grade': 'A',\n",
      "                        'score': 13},\n",
      "                       {'date': datetime.datetime(2012, 3, 29, 0, 0),\n",
      "                        'grade': 'A',\n",
      "                        'score': 11}],\n",
      "  'restaurantName': 'Glorious Food'},\n",
      " {'_id': ObjectId('5cce307bd398404a2c2a70f0'),\n",
      "  'restaurantGrades': [{'date': datetime.datetime(2014, 9, 15, 0, 0),\n",
      "                        'grade': 'A',\n",
      "                        'score': 10},\n",
      "                       {'date': datetime.datetime(2014, 3, 4, 0, 0),\n",
      "                        'grade': 'A',\n",
      "                        'score': 13},\n",
      "                       {'date': datetime.datetime(2013, 7, 18, 0, 0),\n",
      "                        'grade': 'A',\n",
      "                        'score': 13},\n",
      "                       {'date': datetime.datetime(2013, 1, 9, 0, 0),\n",
      "                        'grade': 'A',\n",
      "                        'score': 11},\n",
      "                       {'date': datetime.datetime(2012, 4, 10, 0, 0),\n",
      "                        'grade': 'A',\n",
      "                        'score': 10},\n",
      "                       {'date': datetime.datetime(2011, 11, 15, 0, 0),\n",
      "                        'grade': 'A',\n",
      "                        'score': 7}],\n",
      "  'restaurantName': \"Harriet'S Kitchen\"},\n",
      " {'_id': ObjectId('5cce307bd398404a2c2a70f1'),\n",
      "  'restaurantGrades': [{'date': datetime.datetime(2014, 9, 12, 0, 0),\n",
      "                        'grade': 'B',\n",
      "                        'score': 26},\n",
      "                       {'date': datetime.datetime(2013, 8, 28, 0, 0),\n",
      "                        'grade': 'A',\n",
      "                        'score': 9},\n",
      "                       {'date': datetime.datetime(2013, 3, 25, 0, 0),\n",
      "                        'grade': 'B',\n",
      "                        'score': 20},\n",
      "                       {'date': datetime.datetime(2012, 2, 14, 0, 0),\n",
      "                        'grade': 'A',\n",
      "                        'score': 12}],\n",
      "  'restaurantName': 'P & S Deli Grocery'}]\n"
     ]
    }
   ],
   "source": [
    "pprint(list(mpagr)[0:5])"
   ]
  },
  {
   "cell_type": "markdown",
   "metadata": {},
   "source": [
    "Now we will use operators that helps deal with arithmetic expressions. \n",
    "\n",
    "Let's calculate for each restaurant the average of grades."
   ]
  },
  {
   "cell_type": "code",
   "execution_count": 130,
   "metadata": {},
   "outputs": [],
   "source": [
    "mpgagr=db.restaurants.aggregate([\n",
    "    {'$match':{'borough':'Manhattan'}},\n",
    "    {'$project':{'restaurantName':'$name','restaurantGrades':'$grades','avgGrade':{'$avg':'$grades.score'}}}])"
   ]
  },
  {
   "cell_type": "code",
   "execution_count": 131,
   "metadata": {},
   "outputs": [
    {
     "name": "stdout",
     "output_type": "stream",
     "text": [
      "[{'_id': ObjectId('5cce307bd398404a2c2a70db'),\n",
      "  'avgGrade': 9.25,\n",
      "  'restaurantGrades': [{'date': datetime.datetime(2014, 9, 6, 0, 0),\n",
      "                        'grade': 'A',\n",
      "                        'score': 2},\n",
      "                       {'date': datetime.datetime(2013, 7, 22, 0, 0),\n",
      "                        'grade': 'A',\n",
      "                        'score': 11},\n",
      "                       {'date': datetime.datetime(2012, 7, 31, 0, 0),\n",
      "                        'grade': 'A',\n",
      "                        'score': 12},\n",
      "                       {'date': datetime.datetime(2011, 12, 29, 0, 0),\n",
      "                        'grade': 'A',\n",
      "                        'score': 12}],\n",
      "  'restaurantName': 'Dj Reynolds Pub And Restaurant'},\n",
      " {'_id': ObjectId('5cce307bd398404a2c2a70e6'),\n",
      "  'avgGrade': 3.25,\n",
      "  'restaurantGrades': [{'date': datetime.datetime(2014, 5, 7, 0, 0),\n",
      "                        'grade': 'A',\n",
      "                        'score': 3},\n",
      "                       {'date': datetime.datetime(2013, 5, 3, 0, 0),\n",
      "                        'grade': 'A',\n",
      "                        'score': 4},\n",
      "                       {'date': datetime.datetime(2012, 4, 30, 0, 0),\n",
      "                        'grade': 'A',\n",
      "                        'score': 6},\n",
      "                       {'date': datetime.datetime(2011, 12, 27, 0, 0),\n",
      "                        'grade': 'A',\n",
      "                        'score': 0}],\n",
      "  'restaurantName': '1 East 66Th Street Kitchen'},\n",
      " {'_id': ObjectId('5cce307bd398404a2c2a70ed'),\n",
      "  'avgGrade': 12.2,\n",
      "  'restaurantGrades': [{'date': datetime.datetime(2014, 9, 2, 0, 0),\n",
      "                        'grade': 'A',\n",
      "                        'score': 12},\n",
      "                       {'date': datetime.datetime(2013, 12, 19, 0, 0),\n",
      "                        'grade': 'B',\n",
      "                        'score': 16},\n",
      "                       {'date': datetime.datetime(2013, 5, 28, 0, 0),\n",
      "                        'grade': 'A',\n",
      "                        'score': 9},\n",
      "                       {'date': datetime.datetime(2012, 12, 7, 0, 0),\n",
      "                        'grade': 'A',\n",
      "                        'score': 13},\n",
      "                       {'date': datetime.datetime(2012, 3, 29, 0, 0),\n",
      "                        'grade': 'A',\n",
      "                        'score': 11}],\n",
      "  'restaurantName': 'Glorious Food'},\n",
      " {'_id': ObjectId('5cce307bd398404a2c2a70f0'),\n",
      "  'avgGrade': 10.666666666666666,\n",
      "  'restaurantGrades': [{'date': datetime.datetime(2014, 9, 15, 0, 0),\n",
      "                        'grade': 'A',\n",
      "                        'score': 10},\n",
      "                       {'date': datetime.datetime(2014, 3, 4, 0, 0),\n",
      "                        'grade': 'A',\n",
      "                        'score': 13},\n",
      "                       {'date': datetime.datetime(2013, 7, 18, 0, 0),\n",
      "                        'grade': 'A',\n",
      "                        'score': 13},\n",
      "                       {'date': datetime.datetime(2013, 1, 9, 0, 0),\n",
      "                        'grade': 'A',\n",
      "                        'score': 11},\n",
      "                       {'date': datetime.datetime(2012, 4, 10, 0, 0),\n",
      "                        'grade': 'A',\n",
      "                        'score': 10},\n",
      "                       {'date': datetime.datetime(2011, 11, 15, 0, 0),\n",
      "                        'grade': 'A',\n",
      "                        'score': 7}],\n",
      "  'restaurantName': \"Harriet'S Kitchen\"},\n",
      " {'_id': ObjectId('5cce307bd398404a2c2a70f1'),\n",
      "  'avgGrade': 16.75,\n",
      "  'restaurantGrades': [{'date': datetime.datetime(2014, 9, 12, 0, 0),\n",
      "                        'grade': 'B',\n",
      "                        'score': 26},\n",
      "                       {'date': datetime.datetime(2013, 8, 28, 0, 0),\n",
      "                        'grade': 'A',\n",
      "                        'score': 9},\n",
      "                       {'date': datetime.datetime(2013, 3, 25, 0, 0),\n",
      "                        'grade': 'B',\n",
      "                        'score': 20},\n",
      "                       {'date': datetime.datetime(2012, 2, 14, 0, 0),\n",
      "                        'grade': 'A',\n",
      "                        'score': 12}],\n",
      "  'restaurantName': 'P & S Deli Grocery'}]\n"
     ]
    }
   ],
   "source": [
    "pprint(list(mpgagr)[0:5])"
   ]
  },
  {
   "cell_type": "code",
   "execution_count": 98,
   "metadata": {},
   "outputs": [],
   "source": [
    "mpgagr=db.restaurants.find({'grades.score':{'$gt':12}})"
   ]
  },
  {
   "cell_type": "code",
   "execution_count": 97,
   "metadata": {},
   "outputs": [
    {
     "ename": "OperationFailure",
     "evalue": "$all needs an array",
     "output_type": "error",
     "traceback": [
      "\u001b[1;31m---------------------------------------------------------------------------\u001b[0m",
      "\u001b[1;31mOperationFailure\u001b[0m                          Traceback (most recent call last)",
      "\u001b[1;32m<ipython-input-97-18c658fedb75>\u001b[0m in \u001b[0;36m<module>\u001b[1;34m()\u001b[0m\n\u001b[1;32m----> 1\u001b[1;33m \u001b[0mpprint\u001b[0m\u001b[1;33m(\u001b[0m\u001b[0mlist\u001b[0m\u001b[1;33m(\u001b[0m\u001b[0mmpgagr\u001b[0m\u001b[1;33m)\u001b[0m\u001b[1;33m[\u001b[0m\u001b[1;36m0\u001b[0m\u001b[1;33m:\u001b[0m\u001b[1;36m5\u001b[0m\u001b[1;33m]\u001b[0m\u001b[1;33m)\u001b[0m\u001b[1;33m\u001b[0m\u001b[0m\n\u001b[0m",
      "\u001b[1;32m~\\Anaconda3\\lib\\site-packages\\pymongo\\cursor.py\u001b[0m in \u001b[0;36mnext\u001b[1;34m(self)\u001b[0m\n\u001b[0;32m   1187\u001b[0m         \u001b[1;32mif\u001b[0m \u001b[0mself\u001b[0m\u001b[1;33m.\u001b[0m\u001b[0m__empty\u001b[0m\u001b[1;33m:\u001b[0m\u001b[1;33m\u001b[0m\u001b[0m\n\u001b[0;32m   1188\u001b[0m             \u001b[1;32mraise\u001b[0m \u001b[0mStopIteration\u001b[0m\u001b[1;33m\u001b[0m\u001b[0m\n\u001b[1;32m-> 1189\u001b[1;33m         \u001b[1;32mif\u001b[0m \u001b[0mlen\u001b[0m\u001b[1;33m(\u001b[0m\u001b[0mself\u001b[0m\u001b[1;33m.\u001b[0m\u001b[0m__data\u001b[0m\u001b[1;33m)\u001b[0m \u001b[1;32mor\u001b[0m \u001b[0mself\u001b[0m\u001b[1;33m.\u001b[0m\u001b[0m_refresh\u001b[0m\u001b[1;33m(\u001b[0m\u001b[1;33m)\u001b[0m\u001b[1;33m:\u001b[0m\u001b[1;33m\u001b[0m\u001b[0m\n\u001b[0m\u001b[0;32m   1190\u001b[0m             \u001b[1;32mif\u001b[0m \u001b[0mself\u001b[0m\u001b[1;33m.\u001b[0m\u001b[0m__manipulate\u001b[0m\u001b[1;33m:\u001b[0m\u001b[1;33m\u001b[0m\u001b[0m\n\u001b[0;32m   1191\u001b[0m                 \u001b[0m_db\u001b[0m \u001b[1;33m=\u001b[0m \u001b[0mself\u001b[0m\u001b[1;33m.\u001b[0m\u001b[0m__collection\u001b[0m\u001b[1;33m.\u001b[0m\u001b[0mdatabase\u001b[0m\u001b[1;33m\u001b[0m\u001b[0m\n",
      "\u001b[1;32m~\\Anaconda3\\lib\\site-packages\\pymongo\\cursor.py\u001b[0m in \u001b[0;36m_refresh\u001b[1;34m(self)\u001b[0m\n\u001b[0;32m   1102\u001b[0m                                   \u001b[0mself\u001b[0m\u001b[1;33m.\u001b[0m\u001b[0m__session\u001b[0m\u001b[1;33m,\u001b[0m\u001b[1;33m\u001b[0m\u001b[0m\n\u001b[0;32m   1103\u001b[0m                                   self.__collection.database.client)\n\u001b[1;32m-> 1104\u001b[1;33m             \u001b[0mself\u001b[0m\u001b[1;33m.\u001b[0m\u001b[0m__send_message\u001b[0m\u001b[1;33m(\u001b[0m\u001b[0mq\u001b[0m\u001b[1;33m)\u001b[0m\u001b[1;33m\u001b[0m\u001b[0m\n\u001b[0m\u001b[0;32m   1105\u001b[0m         \u001b[1;32melif\u001b[0m \u001b[0mself\u001b[0m\u001b[1;33m.\u001b[0m\u001b[0m__id\u001b[0m\u001b[1;33m:\u001b[0m  \u001b[1;31m# Get More\u001b[0m\u001b[1;33m\u001b[0m\u001b[0m\n\u001b[0;32m   1106\u001b[0m             \u001b[1;32mif\u001b[0m \u001b[0mself\u001b[0m\u001b[1;33m.\u001b[0m\u001b[0m__limit\u001b[0m\u001b[1;33m:\u001b[0m\u001b[1;33m\u001b[0m\u001b[0m\n",
      "\u001b[1;32m~\\Anaconda3\\lib\\site-packages\\pymongo\\cursor.py\u001b[0m in \u001b[0;36m__send_message\u001b[1;34m(self, operation)\u001b[0m\n\u001b[0;32m    980\u001b[0m                 \u001b[0mfirst\u001b[0m \u001b[1;33m=\u001b[0m \u001b[0mdocs\u001b[0m\u001b[1;33m[\u001b[0m\u001b[1;36m0\u001b[0m\u001b[1;33m]\u001b[0m\u001b[1;33m\u001b[0m\u001b[0m\n\u001b[0;32m    981\u001b[0m                 \u001b[0mclient\u001b[0m\u001b[1;33m.\u001b[0m\u001b[0m_receive_cluster_time\u001b[0m\u001b[1;33m(\u001b[0m\u001b[0mfirst\u001b[0m\u001b[1;33m,\u001b[0m \u001b[0mself\u001b[0m\u001b[1;33m.\u001b[0m\u001b[0m__session\u001b[0m\u001b[1;33m)\u001b[0m\u001b[1;33m\u001b[0m\u001b[0m\n\u001b[1;32m--> 982\u001b[1;33m                 \u001b[0mhelpers\u001b[0m\u001b[1;33m.\u001b[0m\u001b[0m_check_command_response\u001b[0m\u001b[1;33m(\u001b[0m\u001b[0mfirst\u001b[0m\u001b[1;33m)\u001b[0m\u001b[1;33m\u001b[0m\u001b[0m\n\u001b[0m\u001b[0;32m    983\u001b[0m         \u001b[1;32mexcept\u001b[0m \u001b[0mOperationFailure\u001b[0m \u001b[1;32mas\u001b[0m \u001b[0mexc\u001b[0m\u001b[1;33m:\u001b[0m\u001b[1;33m\u001b[0m\u001b[0m\n\u001b[0;32m    984\u001b[0m             \u001b[0mself\u001b[0m\u001b[1;33m.\u001b[0m\u001b[0m__killed\u001b[0m \u001b[1;33m=\u001b[0m \u001b[1;32mTrue\u001b[0m\u001b[1;33m\u001b[0m\u001b[0m\n",
      "\u001b[1;32m~\\Anaconda3\\lib\\site-packages\\pymongo\\helpers.py\u001b[0m in \u001b[0;36m_check_command_response\u001b[1;34m(response, msg, allowable_errors, parse_write_concern_error)\u001b[0m\n\u001b[0;32m    153\u001b[0m \u001b[1;33m\u001b[0m\u001b[0m\n\u001b[0;32m    154\u001b[0m             \u001b[0mmsg\u001b[0m \u001b[1;33m=\u001b[0m \u001b[0mmsg\u001b[0m \u001b[1;32mor\u001b[0m \u001b[1;34m\"%s\"\u001b[0m\u001b[1;33m\u001b[0m\u001b[0m\n\u001b[1;32m--> 155\u001b[1;33m             \u001b[1;32mraise\u001b[0m \u001b[0mOperationFailure\u001b[0m\u001b[1;33m(\u001b[0m\u001b[0mmsg\u001b[0m \u001b[1;33m%\u001b[0m \u001b[0merrmsg\u001b[0m\u001b[1;33m,\u001b[0m \u001b[0mcode\u001b[0m\u001b[1;33m,\u001b[0m \u001b[0mresponse\u001b[0m\u001b[1;33m)\u001b[0m\u001b[1;33m\u001b[0m\u001b[0m\n\u001b[0m\u001b[0;32m    156\u001b[0m \u001b[1;33m\u001b[0m\u001b[0m\n\u001b[0;32m    157\u001b[0m \u001b[1;33m\u001b[0m\u001b[0m\n",
      "\u001b[1;31mOperationFailure\u001b[0m: $all needs an array"
     ]
    }
   ],
   "source": [
    "pprint(list(mpgagr)[0:5])"
   ]
  },
  {
   "cell_type": "code",
   "execution_count": null,
   "metadata": {},
   "outputs": [],
   "source": []
  }
 ],
 "metadata": {
  "kernelspec": {
   "display_name": "Python 3",
   "language": "python",
   "name": "python3"
  },
  "language_info": {
   "codemirror_mode": {
    "name": "ipython",
    "version": 3
   },
   "file_extension": ".py",
   "mimetype": "text/x-python",
   "name": "python",
   "nbconvert_exporter": "python",
   "pygments_lexer": "ipython3",
   "version": "3.6.4"
  }
 },
 "nbformat": 4,
 "nbformat_minor": 2
}
