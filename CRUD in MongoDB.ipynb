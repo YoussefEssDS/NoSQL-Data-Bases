{
 "cells": [
  {
   "cell_type": "markdown",
   "metadata": {},
   "source": [
    "# CRUD in MongoDB:\n",
    "\n",
    "In this notebook we will explore the main transactions done on a database (CRUD) on a document based database (MongoDB).\n",
    "\n",
    "First, we load the data from the file primer-dataset.json using cmd using the following command: \n",
    "\n",
    "mongoimport --db test --collection restaurants --drop --file \"path to file\""
   ]
  },
  {
   "cell_type": "code",
   "execution_count": 427,
   "metadata": {},
   "outputs": [],
   "source": [
    "import pymongo as pg #Among other things handles conncection between the db and python environement \n",
    "from pprint import pprint #pretty print\n",
    "import datetime #Needed to format the datetime input later on."
   ]
  },
  {
   "cell_type": "code",
   "execution_count": 428,
   "metadata": {},
   "outputs": [],
   "source": [
    "client=pg.MongoClient()\n",
    "db=client.test"
   ]
  },
  {
   "cell_type": "code",
   "execution_count": 429,
   "metadata": {
    "scrolled": true
   },
   "outputs": [
    {
     "name": "stdout",
     "output_type": "stream",
     "text": [
      "{'_id': ObjectId('5cc79bf63ff99b33afca409e'), 'address': {'building': '1007', 'coord': [-73.856077, 40.848447], 'street': 'Morris Park Ave', 'zipcode': '10462'}, 'borough': 'Bronx', 'cuisine': 'Bakery', 'grades': [{'date': datetime.datetime(2014, 3, 3, 0, 0), 'grade': 'A', 'score': 2}, {'date': datetime.datetime(2013, 9, 11, 0, 0), 'grade': 'A', 'score': 6}, {'date': datetime.datetime(2013, 1, 24, 0, 0), 'grade': 'A', 'score': 10}, {'date': datetime.datetime(2011, 11, 23, 0, 0), 'grade': 'A', 'score': 9}, {'date': datetime.datetime(2011, 3, 10, 0, 0), 'grade': 'B', 'score': 14}], 'name': 'Morris Park Bake Shop', 'restaurant_id': '30075445'}\n"
     ]
    }
   ],
   "source": [
    "print(db.restaurants.find_one())"
   ]
  },
  {
   "cell_type": "code",
   "execution_count": 430,
   "metadata": {},
   "outputs": [
    {
     "name": "stdout",
     "output_type": "stream",
     "text": [
      "{'_id': ObjectId('5cc79bf63ff99b33afca409e'),\n",
      " 'address': {'building': '1007',\n",
      "             'coord': [-73.856077, 40.848447],\n",
      "             'street': 'Morris Park Ave',\n",
      "             'zipcode': '10462'},\n",
      " 'borough': 'Bronx',\n",
      " 'cuisine': 'Bakery',\n",
      " 'grades': [{'date': datetime.datetime(2014, 3, 3, 0, 0),\n",
      "             'grade': 'A',\n",
      "             'score': 2},\n",
      "            {'date': datetime.datetime(2013, 9, 11, 0, 0),\n",
      "             'grade': 'A',\n",
      "             'score': 6},\n",
      "            {'date': datetime.datetime(2013, 1, 24, 0, 0),\n",
      "             'grade': 'A',\n",
      "             'score': 10},\n",
      "            {'date': datetime.datetime(2011, 11, 23, 0, 0),\n",
      "             'grade': 'A',\n",
      "             'score': 9},\n",
      "            {'date': datetime.datetime(2011, 3, 10, 0, 0),\n",
      "             'grade': 'B',\n",
      "             'score': 14}],\n",
      " 'name': 'Morris Park Bake Shop',\n",
      " 'restaurant_id': '30075445'}\n"
     ]
    }
   ],
   "source": [
    "pprint(db.restaurants.find_one())"
   ]
  },
  {
   "cell_type": "code",
   "execution_count": 431,
   "metadata": {},
   "outputs": [
    {
     "name": "stderr",
     "output_type": "stream",
     "text": [
      "C:\\Users\\YsfEss\\Anaconda3\\lib\\site-packages\\ipykernel_launcher.py:1: DeprecationWarning: count is deprecated. Use estimated_document_count or count_documents instead. Please note that $where must be replaced by $expr, $near must be replaced by $geoWithin with $center, and $nearSphere must be replaced by $geoWithin with $centerSphere\n",
      "  \"\"\"Entry point for launching an IPython kernel.\n"
     ]
    },
    {
     "data": {
      "text/plain": [
       "25359"
      ]
     },
     "execution_count": 431,
     "metadata": {},
     "output_type": "execute_result"
    }
   ],
   "source": [
    "db.restaurants.count() #Number of restaurants in the JSON file."
   ]
  },
  {
   "cell_type": "markdown",
   "metadata": {},
   "source": [
    "# Inserting a new document:"
   ]
  },
  {
   "cell_type": "code",
   "execution_count": 432,
   "metadata": {},
   "outputs": [
    {
     "data": {
      "text/plain": [
       "<pymongo.results.InsertOneResult at 0x18b9c2b42c8>"
      ]
     },
     "execution_count": 432,
     "metadata": {},
     "output_type": "execute_result"
    }
   ],
   "source": [
    "db.restaurants.insert_one(\n",
    "{\n",
    "\"address\" : {\n",
    "\"street\" : \"2 Avenue\",\n",
    "\"zipcode\" : \"10075\",\n",
    "\"building\" : \"1480\",\n",
    "\"coord\" : [ -73.9557413, 40.7720266 ]\n",
    "},\n",
    "\"borough\" : \"Manhattan\",\n",
    "\"cuisine\" : \"Italian\",\n",
    "\"grades\" : [\n",
    "{\n",
    "\"date\" : datetime.datetime(2014, 10, 1, 0, 0, 0, 0),\n",
    "    \"grade\" : \"A\",\n",
    "\"score\" : 11\n",
    "},\n",
    "{\n",
    "\"date\" : datetime.datetime(2014, 1, 16, 0, 0, 0, 0),\n",
    "\"grade\" : \"B\",\n",
    "\"score\" : 17\n",
    "}\n",
    "],\n",
    "\"name\" : \"Vella\",\n",
    "\"restaurant_id\" : \"41704620\"\n",
    "}\n",
    ")"
   ]
  },
  {
   "cell_type": "code",
   "execution_count": 433,
   "metadata": {},
   "outputs": [
    {
     "name": "stderr",
     "output_type": "stream",
     "text": [
      "C:\\Users\\YsfEss\\Anaconda3\\lib\\site-packages\\ipykernel_launcher.py:1: DeprecationWarning: count is deprecated. Use estimated_document_count or count_documents instead. Please note that $where must be replaced by $expr, $near must be replaced by $geoWithin with $center, and $nearSphere must be replaced by $geoWithin with $centerSphere\n",
      "  \"\"\"Entry point for launching an IPython kernel.\n"
     ]
    },
    {
     "data": {
      "text/plain": [
       "25360"
      ]
     },
     "execution_count": 433,
     "metadata": {},
     "output_type": "execute_result"
    }
   ],
   "source": [
    "db.restaurants.count()"
   ]
  },
  {
   "cell_type": "markdown",
   "metadata": {},
   "source": [
    "# Updating Top-level fields:\n",
    "\n",
    "Update the Document relative to the Juni restaurant and set the cuisine to ‘American\n",
    "(New)’ and the lastModified field in current date to True. Use the function find_one() before and after the update to\n",
    "verify its execution."
   ]
  },
  {
   "cell_type": "code",
   "execution_count": 434,
   "metadata": {},
   "outputs": [
    {
     "name": "stdout",
     "output_type": "stream",
     "text": [
      "{'_id': ObjectId('5cc79bf63ff99b33afca582e'),\n",
      " 'address': {'building': '12',\n",
      "             'coord': [-73.9852329, 40.745971],\n",
      "             'street': 'East 31 Street',\n",
      "             'zipcode': '10016'},\n",
      " 'borough': 'Manhattan',\n",
      " 'cuisine': 'American',\n",
      " 'grades': [{'date': datetime.datetime(2014, 9, 19, 0, 0),\n",
      "             'grade': 'A',\n",
      "             'score': 12},\n",
      "            {'date': datetime.datetime(2013, 8, 5, 0, 0),\n",
      "             'grade': 'A',\n",
      "             'score': 5},\n",
      "            {'date': datetime.datetime(2012, 6, 7, 0, 0),\n",
      "             'grade': 'A',\n",
      "             'score': 0}],\n",
      " 'name': 'Juni',\n",
      " 'restaurant_id': '41156888'}\n",
      "{'_id': ObjectId('5cc79bf63ff99b33afca582e'),\n",
      " 'address': {'building': '12',\n",
      "             'coord': [-73.9852329, 40.745971],\n",
      "             'street': 'East 31 Street',\n",
      "             'zipcode': '10016'},\n",
      " 'borough': 'Manhattan',\n",
      " 'cuisine': 'American(New)',\n",
      " 'grades': [{'date': datetime.datetime(2014, 9, 19, 0, 0),\n",
      "             'grade': 'A',\n",
      "             'score': 12},\n",
      "            {'date': datetime.datetime(2013, 8, 5, 0, 0),\n",
      "             'grade': 'A',\n",
      "             'score': 5},\n",
      "            {'date': datetime.datetime(2012, 6, 7, 0, 0),\n",
      "             'grade': 'A',\n",
      "             'score': 0}],\n",
      " 'name': 'Juni',\n",
      " 'restaurant_id': '41156888'}\n"
     ]
    }
   ],
   "source": [
    "queryF = { \"name\": \"Juni\" }\n",
    "pprint(db.restaurants.find_one(queryF))\n",
    "newValues={\"$set\":{\"cuisine\":\"American(New)\"}}\n",
    "db.restaurants.update_one(queryF,newValues)\n",
    "pprint(db.restaurants.find_one(queryF))"
   ]
  },
  {
   "cell_type": "markdown",
   "metadata": {},
   "source": [
    "# Updating Embedded fields:\n",
    "\n",
    "Update the street of the restaurant whose id is 41156888 with the new value \"East\n",
    "41st Street\""
   ]
  },
  {
   "cell_type": "code",
   "execution_count": 435,
   "metadata": {},
   "outputs": [
    {
     "name": "stdout",
     "output_type": "stream",
     "text": [
      "{'_id': ObjectId('5cc79bf63ff99b33afca582e'),\n",
      " 'address': {'building': '12',\n",
      "             'coord': [-73.9852329, 40.745971],\n",
      "             'street': 'East 31 Street',\n",
      "             'zipcode': '10016'},\n",
      " 'borough': 'Manhattan',\n",
      " 'cuisine': 'American(New)',\n",
      " 'grades': [{'date': datetime.datetime(2014, 9, 19, 0, 0),\n",
      "             'grade': 'A',\n",
      "             'score': 12},\n",
      "            {'date': datetime.datetime(2013, 8, 5, 0, 0),\n",
      "             'grade': 'A',\n",
      "             'score': 5},\n",
      "            {'date': datetime.datetime(2012, 6, 7, 0, 0),\n",
      "             'grade': 'A',\n",
      "             'score': 0}],\n",
      " 'name': 'Juni',\n",
      " 'restaurant_id': '41156888'}\n",
      "{'_id': ObjectId('5cc79bf63ff99b33afca582e'),\n",
      " 'address': {'building': '12',\n",
      "             'coord': [-73.9852329, 40.745971],\n",
      "             'street': 'East 41st Street',\n",
      "             'zipcode': '10016'},\n",
      " 'borough': 'Manhattan',\n",
      " 'cuisine': 'American(New)',\n",
      " 'grades': [{'date': datetime.datetime(2014, 9, 19, 0, 0),\n",
      "             'grade': 'A',\n",
      "             'score': 12},\n",
      "            {'date': datetime.datetime(2013, 8, 5, 0, 0),\n",
      "             'grade': 'A',\n",
      "             'score': 5},\n",
      "            {'date': datetime.datetime(2012, 6, 7, 0, 0),\n",
      "             'grade': 'A',\n",
      "             'score': 0}],\n",
      " 'name': 'Juni',\n",
      " 'restaurant_id': '41156888'}\n"
     ]
    }
   ],
   "source": [
    "query2 = { \"restaurant_id\": \"41156888\" }\n",
    "pprint(db.restaurants.find_one(query2))\n",
    "newValues={\"$set\":{\"address.street\":\"East 41st Street\"}}\n",
    "db.restaurants.update_one(query2,newValues)\n",
    "pprint(db.restaurants.find_one(query2))"
   ]
  },
  {
   "cell_type": "markdown",
   "metadata": {},
   "source": [
    "# Updating multiple Documents:\n",
    "\n",
    "Update all documents that have a zipcode field equal to \"10016\" and cuisine\n",
    "field equal to “Other”. Set the cuisine field to \"Category To Be Determined\".\n",
    "\n",
    "There is no field called \"lastModified\". We will add it for the sake of handeling data in next sections."
   ]
  },
  {
   "cell_type": "code",
   "execution_count": 436,
   "metadata": {
    "scrolled": false
   },
   "outputs": [
    {
     "name": "stderr",
     "output_type": "stream",
     "text": [
      "C:\\Users\\YsfEss\\Anaconda3\\lib\\site-packages\\ipykernel_launcher.py:1: DeprecationWarning: count is deprecated. Use Collection.count_documents instead.\n",
      "  \"\"\"Entry point for launching an IPython kernel.\n"
     ]
    },
    {
     "data": {
      "text/plain": [
       "0"
      ]
     },
     "execution_count": 436,
     "metadata": {},
     "output_type": "execute_result"
    }
   ],
   "source": [
    "db.restaurants.find({\"lastModified\": {\"$exists\":True}}).count()"
   ]
  },
  {
   "cell_type": "code",
   "execution_count": 437,
   "metadata": {},
   "outputs": [
    {
     "name": "stderr",
     "output_type": "stream",
     "text": [
      "C:\\Users\\YsfEss\\Anaconda3\\lib\\site-packages\\ipykernel_launcher.py:1: DeprecationWarning: count is deprecated. Use Collection.count_documents instead.\n",
      "  \"\"\"Entry point for launching an IPython kernel.\n"
     ]
    },
    {
     "data": {
      "text/plain": [
       "1011"
      ]
     },
     "execution_count": 437,
     "metadata": {},
     "output_type": "execute_result"
    }
   ],
   "source": [
    "db.restaurants.find({\"cuisine\":\"Other\"}).count() #Number of restaurants with 'Other' value for the cuisine key."
   ]
  },
  {
   "cell_type": "code",
   "execution_count": 438,
   "metadata": {},
   "outputs": [
    {
     "data": {
      "text/plain": [
       "<pymongo.results.UpdateResult at 0x18b9c2b4108>"
      ]
     },
     "execution_count": 438,
     "metadata": {},
     "output_type": "execute_result"
    }
   ],
   "source": [
    "db.restaurants.update_many({\"cuisine\":\"Other\"},{\"$set\":{\"cuisine\":\"Category To Be Determined\",\"lastModified\":datetime.datetime.now()}}) #Updating multiple files."
   ]
  },
  {
   "cell_type": "code",
   "execution_count": 439,
   "metadata": {},
   "outputs": [
    {
     "name": "stderr",
     "output_type": "stream",
     "text": [
      "C:\\Users\\YsfEss\\Anaconda3\\lib\\site-packages\\ipykernel_launcher.py:1: DeprecationWarning: count is deprecated. Use Collection.count_documents instead.\n",
      "  \"\"\"Entry point for launching an IPython kernel.\n"
     ]
    },
    {
     "data": {
      "text/plain": [
       "0"
      ]
     },
     "execution_count": 439,
     "metadata": {},
     "output_type": "execute_result"
    }
   ],
   "source": [
    "db.restaurants.find({\"cuisine\":\"Other\"}).count() #We expect 0."
   ]
  },
  {
   "cell_type": "code",
   "execution_count": 440,
   "metadata": {},
   "outputs": [
    {
     "name": "stderr",
     "output_type": "stream",
     "text": [
      "C:\\Users\\YsfEss\\Anaconda3\\lib\\site-packages\\ipykernel_launcher.py:1: DeprecationWarning: count is deprecated. Use Collection.count_documents instead.\n",
      "  \"\"\"Entry point for launching an IPython kernel.\n"
     ]
    },
    {
     "data": {
      "text/plain": [
       "1011"
      ]
     },
     "execution_count": 440,
     "metadata": {},
     "output_type": "execute_result"
    }
   ],
   "source": [
    "db.restaurants.find({\"cuisine\":\"Category To Be Determined\"}).count() # We expect 1011"
   ]
  },
  {
   "cell_type": "markdown",
   "metadata": {},
   "source": [
    "# Replacing a Document:\n",
    "\n",
    "Update the Document for the restaurant with id : “41704620”. The modified document will only contain the _id field, name field, the address field. i.e. the document will not contain the restaurant_id, cuisine, grades, and the borough fields."
   ]
  },
  {
   "cell_type": "code",
   "execution_count": 441,
   "metadata": {},
   "outputs": [],
   "source": [
    "name=db.restaurants.find_one({\"restaurant_id\":\"41704620\"},{\"name\"})\n",
    "address=db.restaurants.find_one({\"restaurant_id\":\"41704620\"},{\"address\"})"
   ]
  },
  {
   "cell_type": "code",
   "execution_count": 442,
   "metadata": {},
   "outputs": [],
   "source": [
    "def extractSubFields(field):\n",
    "    l=[]\n",
    "    for subField in field.keys():\n",
    "        l.append(field[subField])\n",
    "    return(l)"
   ]
  },
  {
   "cell_type": "code",
   "execution_count": 443,
   "metadata": {},
   "outputs": [
    {
     "data": {
      "text/plain": [
       "{'_id': ObjectId('5cc79bf73ff99b33afca859a'),\n",
       " 'address': {'building': '1480',\n",
       "  'coord': [-73.9557413, 40.7720266],\n",
       "  'street': '2 Avenue',\n",
       "  'zipcode': '10075'},\n",
       " 'borough': 'Manhattan',\n",
       " 'cuisine': 'Italian',\n",
       " 'grades': [{'date': datetime.datetime(2014, 10, 1, 0, 0),\n",
       "   'grade': 'A',\n",
       "   'score': 11},\n",
       "  {'date': datetime.datetime(2014, 1, 16, 0, 0), 'grade': 'B', 'score': 17}],\n",
       " 'name': 'Vella',\n",
       " 'restaurant_id': '41704620'}"
      ]
     },
     "execution_count": 443,
     "metadata": {},
     "output_type": "execute_result"
    }
   ],
   "source": [
    "db.restaurants.find_one({\"restaurant_id\":\"41704620\"})"
   ]
  },
  {
   "cell_type": "code",
   "execution_count": 444,
   "metadata": {},
   "outputs": [
    {
     "data": {
      "text/plain": [
       "<pymongo.results.UpdateResult at 0x18b9bbba788>"
      ]
     },
     "execution_count": 444,
     "metadata": {},
     "output_type": "execute_result"
    }
   ],
   "source": [
    "db.restaurants.replace_one({\"restaurant_id\":\"41704620\"},{\n",
    "    \"_id\":extractSubFields(name)[0],\n",
    "    \"address\":extractSubFields(address)[1],\n",
    "    \"name\":extractSubFields(name)[1]\n",
    "})"
   ]
  },
  {
   "cell_type": "code",
   "execution_count": 445,
   "metadata": {},
   "outputs": [
    {
     "data": {
      "text/plain": [
       "{'_id': ObjectId('5cc79bf73ff99b33afca859a'),\n",
       " 'address': {'building': '1480',\n",
       "  'coord': [-73.9557413, 40.7720266],\n",
       "  'street': '2 Avenue',\n",
       "  'zipcode': '10075'},\n",
       " 'name': 'Vella'}"
      ]
     },
     "execution_count": 445,
     "metadata": {},
     "output_type": "execute_result"
    }
   ],
   "source": [
    "db.restaurants.find_one({\"name\":\"Vella\"})"
   ]
  },
  {
   "cell_type": "markdown",
   "metadata": {},
   "source": [
    "# Querying Data:\n",
    "\n",
    "Find all restaurants that were last modified this week."
   ]
  },
  {
   "cell_type": "code",
   "execution_count": 446,
   "metadata": {},
   "outputs": [
    {
     "data": {
      "text/plain": [
       "datetime.timedelta(0, 8705, 154991)"
      ]
     },
     "execution_count": 446,
     "metadata": {},
     "output_type": "execute_result"
    }
   ],
   "source": [
    "# Handeling datetime type.\n",
    "lastMod=ObjectId('5cc788443ff99b33afc98b45').generation_time.replace(tzinfo=None) #removing timezone to be able to use operation on it.\n",
    "now=datetime.datetime.now()\n",
    "d=now-lastMod # its type is datetime.timedelta. datetime.timedelta([days,] [seconds,] [microseconds,] [milliseconds,] [minutes,] [hours,] [weeks])\n",
    "# We can access each component of d by its name for example number of days between the two dates d.days.\n",
    "d"
   ]
  },
  {
   "cell_type": "code",
   "execution_count": 447,
   "metadata": {},
   "outputs": [],
   "source": [
    "now=datetime.datetime.now()\n",
    "l=[]\n",
    "i=0\n",
    "for doc in db.restaurants.find({\"lastModified\":{\"$exists\":True}}):\n",
    "    dif=now-doc[\"lastModified\"]\n",
    "    if dif.days<7:\n",
    "        l.append(doc[\"_id\"])\n",
    "lastModifiedDocs=db.restaurants.find({\"_id\":{\"$in\":l}})"
   ]
  },
  {
   "cell_type": "code",
   "execution_count": 448,
   "metadata": {},
   "outputs": [
    {
     "name": "stderr",
     "output_type": "stream",
     "text": [
      "C:\\Users\\YsfEss\\Anaconda3\\lib\\site-packages\\ipykernel_launcher.py:1: DeprecationWarning: count is deprecated. Use Collection.count_documents instead.\n",
      "  \"\"\"Entry point for launching an IPython kernel.\n"
     ]
    },
    {
     "data": {
      "text/plain": [
       "1011"
      ]
     },
     "execution_count": 448,
     "metadata": {},
     "output_type": "execute_result"
    }
   ],
   "source": [
    "lastModifiedDocs.count() #We expect all of them (the ones modified earlier), let's make a test tho and set the laastModified for one of them 10 days earlier."
   ]
  },
  {
   "cell_type": "code",
   "execution_count": 449,
   "metadata": {},
   "outputs": [
    {
     "data": {
      "text/plain": [
       "<pymongo.results.UpdateResult at 0x18b9a8ecf48>"
      ]
     },
     "execution_count": 449,
     "metadata": {},
     "output_type": "execute_result"
    }
   ],
   "source": [
    "db.restaurants.update_one({\"_id\":l[23]},{\"$set\":{\"lastModified\":datetime.datetime(2019, 4, 20, 1, 18, 57, 434582)}})"
   ]
  },
  {
   "cell_type": "code",
   "execution_count": 450,
   "metadata": {},
   "outputs": [
    {
     "data": {
      "text/plain": [
       "True"
      ]
     },
     "execution_count": 450,
     "metadata": {},
     "output_type": "execute_result"
    }
   ],
   "source": [
    "now=datetime.datetime.now()\n",
    "(now-db.restaurants.find_one({\"_id\":l[23]})[\"lastModified\"]).days>7 #We expect True."
   ]
  },
  {
   "cell_type": "markdown",
   "metadata": {},
   "source": [
    "# Querying with regular expressions and sorting:"
   ]
  },
  {
   "cell_type": "code",
   "execution_count": 451,
   "metadata": {},
   "outputs": [],
   "source": [
    "deliCuisine=db.restaurants.find({'cuisine':{'$regex':'Deli\\w'}})"
   ]
  },
  {
   "cell_type": "code",
   "execution_count": 452,
   "metadata": {},
   "outputs": [
    {
     "name": "stderr",
     "output_type": "stream",
     "text": [
      "C:\\Users\\YsfEss\\Anaconda3\\lib\\site-packages\\ipykernel_launcher.py:1: DeprecationWarning: count is deprecated. Use Collection.count_documents instead.\n",
      "  \"\"\"Entry point for launching an IPython kernel.\n"
     ]
    },
    {
     "data": {
      "text/plain": [
       "321"
      ]
     },
     "execution_count": 452,
     "metadata": {},
     "output_type": "execute_result"
    }
   ],
   "source": [
    "deliCuisine.count() #Number of restaurants that have 'Deli' cuisine."
   ]
  },
  {
   "cell_type": "code",
   "execution_count": 453,
   "metadata": {},
   "outputs": [],
   "source": [
    "#Sorting and limiting:\n",
    "deliCuisine=db.restaurants.find({'cuisine':{'$regex':'Deli\\w'}}).sort(\"borough\").limit(5)"
   ]
  },
  {
   "cell_type": "code",
   "execution_count": 454,
   "metadata": {},
   "outputs": [
    {
     "name": "stdout",
     "output_type": "stream",
     "text": [
      "{'_id': ObjectId('5cc79bf63ff99b33afca436b'),\n",
      " 'address': {'building': '2214',\n",
      "             'coord': [-73.82328319999999, 40.8689401],\n",
      "             'street': 'Bartow Ave',\n",
      "             'zipcode': '10475'},\n",
      " 'borough': 'Bronx',\n",
      " 'cuisine': 'Delicatessen',\n",
      " 'grades': [{'date': datetime.datetime(2014, 10, 18, 0, 0),\n",
      "             'grade': 'A',\n",
      "             'score': 12},\n",
      "            {'date': datetime.datetime(2014, 5, 2, 0, 0),\n",
      "             'grade': 'A',\n",
      "             'score': 7},\n",
      "            {'date': datetime.datetime(2013, 10, 30, 0, 0),\n",
      "             'grade': 'A',\n",
      "             'score': 10},\n",
      "            {'date': datetime.datetime(2013, 5, 30, 0, 0),\n",
      "             'grade': 'A',\n",
      "             'score': 13},\n",
      "            {'date': datetime.datetime(2013, 2, 12, 0, 0),\n",
      "             'grade': 'B',\n",
      "             'score': 18},\n",
      "            {'date': datetime.datetime(2012, 1, 18, 0, 0),\n",
      "             'grade': 'A',\n",
      "             'score': 7}],\n",
      " 'name': 'Bagel Cafe',\n",
      " 'restaurant_id': '40389011'}\n",
      "{'_id': ObjectId('5cc79bf63ff99b33afca4a41'),\n",
      " 'address': {'building': '214',\n",
      "             'coord': [-73.90559809999999, 40.8793065],\n",
      "             'street': 'West  231 Street',\n",
      "             'zipcode': '10463'},\n",
      " 'borough': 'Bronx',\n",
      " 'cuisine': 'Delicatessen',\n",
      " 'grades': [{'date': datetime.datetime(2014, 7, 2, 0, 0),\n",
      "             'grade': 'B',\n",
      "             'score': 14},\n",
      "            {'date': datetime.datetime(2013, 5, 14, 0, 0),\n",
      "             'grade': 'A',\n",
      "             'score': 13},\n",
      "            {'date': datetime.datetime(2012, 4, 20, 0, 0),\n",
      "             'grade': 'A',\n",
      "             'score': 10}],\n",
      " 'name': \"Loeser'S Hebrew National\",\n",
      " 'restaurant_id': '40666155'}\n",
      "{'_id': ObjectId('5cc79bf63ff99b33afca4ddd'),\n",
      " 'address': {'building': '520',\n",
      "             'coord': [-73.78913399999999, 40.852584],\n",
      "             'street': 'City Island Avenue',\n",
      "             'zipcode': '10464'},\n",
      " 'borough': 'Bronx',\n",
      " 'cuisine': 'Delicatessen',\n",
      " 'grades': [{'date': datetime.datetime(2014, 4, 24, 0, 0),\n",
      "             'grade': 'A',\n",
      "             'score': 11},\n",
      "            {'date': datetime.datetime(2013, 11, 13, 0, 0),\n",
      "             'grade': 'A',\n",
      "             'score': 6},\n",
      "            {'date': datetime.datetime(2013, 5, 31, 0, 0),\n",
      "             'grade': 'A',\n",
      "             'score': 8},\n",
      "            {'date': datetime.datetime(2012, 12, 18, 0, 0),\n",
      "             'grade': 'A',\n",
      "             'score': 7},\n",
      "            {'date': datetime.datetime(2012, 5, 10, 0, 0),\n",
      "             'grade': 'B',\n",
      "             'score': 17},\n",
      "            {'date': datetime.datetime(2011, 5, 14, 0, 0),\n",
      "             'grade': 'A',\n",
      "             'score': 2}],\n",
      " 'name': 'City Island Deli',\n",
      " 'restaurant_id': '40839264'}\n",
      "{'_id': ObjectId('5cc79bf63ff99b33afca4ed6'),\n",
      " 'address': {'building': '441',\n",
      "             'coord': [-73.8855919, 40.8618662],\n",
      "             'street': 'East Fordham Road',\n",
      "             'zipcode': '10458'},\n",
      " 'borough': 'Bronx',\n",
      " 'cuisine': 'Delicatessen',\n",
      " 'grades': [{'date': datetime.datetime(2014, 9, 17, 0, 0),\n",
      "             'grade': 'A',\n",
      "             'score': 4},\n",
      "            {'date': datetime.datetime(2013, 10, 2, 0, 0),\n",
      "             'grade': 'A',\n",
      "             'score': 9},\n",
      "            {'date': datetime.datetime(2012, 9, 14, 0, 0),\n",
      "             'grade': 'A',\n",
      "             'score': 2},\n",
      "            {'date': datetime.datetime(2011, 9, 30, 0, 0),\n",
      "             'grade': 'A',\n",
      "             'score': 7}],\n",
      " 'name': 'Fordham University - Student Deli',\n",
      " 'restaurant_id': '40877285'}\n",
      "{'_id': ObjectId('5cc79bf63ff99b33afca5446'),\n",
      " 'address': {'building': '903',\n",
      "             'coord': [-73.9209911, 40.8270836],\n",
      "             'street': 'Sheridan Avenue',\n",
      "             'zipcode': '10451'},\n",
      " 'borough': 'Bronx',\n",
      " 'cuisine': 'Delicatessen',\n",
      " 'grades': [{'date': datetime.datetime(2014, 10, 28, 0, 0),\n",
      "             'grade': 'A',\n",
      "             'score': 13},\n",
      "            {'date': datetime.datetime(2014, 5, 29, 0, 0),\n",
      "             'grade': 'A',\n",
      "             'score': 8},\n",
      "            {'date': datetime.datetime(2013, 10, 4, 0, 0),\n",
      "             'grade': 'A',\n",
      "             'score': 6},\n",
      "            {'date': datetime.datetime(2013, 4, 26, 0, 0),\n",
      "             'grade': 'A',\n",
      "             'score': 5},\n",
      "            {'date': datetime.datetime(2012, 4, 12, 0, 0),\n",
      "             'grade': 'A',\n",
      "             'score': 12},\n",
      "            {'date': datetime.datetime(2011, 12, 7, 0, 0),\n",
      "             'grade': 'B',\n",
      "             'score': 18}],\n",
      " 'name': 'Chris Super Deli',\n",
      " 'restaurant_id': '41050702'}\n"
     ]
    }
   ],
   "source": [
    "for res in deliCuisine:\n",
    "    pprint(res)"
   ]
  }
 ],
 "metadata": {
  "kernelspec": {
   "display_name": "Python 3",
   "language": "python",
   "name": "python3"
  },
  "language_info": {
   "codemirror_mode": {
    "name": "ipython",
    "version": 3
   },
   "file_extension": ".py",
   "mimetype": "text/x-python",
   "name": "python",
   "nbconvert_exporter": "python",
   "pygments_lexer": "ipython3",
   "version": "3.6.4"
  }
 },
 "nbformat": 4,
 "nbformat_minor": 2
}
