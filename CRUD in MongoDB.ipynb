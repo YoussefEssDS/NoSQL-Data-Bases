{
 "cells": [
  {
   "cell_type": "markdown",
   "metadata": {},
   "source": [
    "# CRUD in MongoDB:\n",
    "\n",
    "In this notebook we will explore the main transactions done on a database (CRUD) on a document based database (MongoDB)."
   ]
  },
  {
   "cell_type": "code",
   "execution_count": 65,
   "metadata": {},
   "outputs": [],
   "source": [
    "import pymongo as pg #Among other things handles conncection between the db and python environement \n",
    "from pprint import pprint #pretty print\n",
    "import datetime #Needed to format the datetime input later on."
   ]
  },
  {
   "cell_type": "code",
   "execution_count": 66,
   "metadata": {},
   "outputs": [],
   "source": [
    "client=pg.MongoClient()\n",
    "db=client.test"
   ]
  },
  {
   "cell_type": "code",
   "execution_count": 67,
   "metadata": {
    "scrolled": true
   },
   "outputs": [
    {
     "name": "stdout",
     "output_type": "stream",
     "text": [
      "{'_id': ObjectId('5cc7253f3ff99b33afc769ee'), 'address': {'building': '1007', 'coord': [-73.856077, 40.848447], 'street': 'Morris Park Ave', 'zipcode': '10462'}, 'borough': 'Bronx', 'cuisine': 'Bakery', 'grades': [{'date': datetime.datetime(2014, 3, 3, 0, 0), 'grade': 'A', 'score': 2}, {'date': datetime.datetime(2013, 9, 11, 0, 0), 'grade': 'A', 'score': 6}, {'date': datetime.datetime(2013, 1, 24, 0, 0), 'grade': 'A', 'score': 10}, {'date': datetime.datetime(2011, 11, 23, 0, 0), 'grade': 'A', 'score': 9}, {'date': datetime.datetime(2011, 3, 10, 0, 0), 'grade': 'B', 'score': 14}], 'name': 'Morris Park Bake Shop', 'restaurant_id': '30075445'}\n"
     ]
    }
   ],
   "source": [
    "print(db.restaurants.find_one())"
   ]
  },
  {
   "cell_type": "code",
   "execution_count": 68,
   "metadata": {},
   "outputs": [
    {
     "name": "stdout",
     "output_type": "stream",
     "text": [
      "{'_id': ObjectId('5cc7253f3ff99b33afc769ee'),\n",
      " 'address': {'building': '1007',\n",
      "             'coord': [-73.856077, 40.848447],\n",
      "             'street': 'Morris Park Ave',\n",
      "             'zipcode': '10462'},\n",
      " 'borough': 'Bronx',\n",
      " 'cuisine': 'Bakery',\n",
      " 'grades': [{'date': datetime.datetime(2014, 3, 3, 0, 0),\n",
      "             'grade': 'A',\n",
      "             'score': 2},\n",
      "            {'date': datetime.datetime(2013, 9, 11, 0, 0),\n",
      "             'grade': 'A',\n",
      "             'score': 6},\n",
      "            {'date': datetime.datetime(2013, 1, 24, 0, 0),\n",
      "             'grade': 'A',\n",
      "             'score': 10},\n",
      "            {'date': datetime.datetime(2011, 11, 23, 0, 0),\n",
      "             'grade': 'A',\n",
      "             'score': 9},\n",
      "            {'date': datetime.datetime(2011, 3, 10, 0, 0),\n",
      "             'grade': 'B',\n",
      "             'score': 14}],\n",
      " 'name': 'Morris Park Bake Shop',\n",
      " 'restaurant_id': '30075445'}\n"
     ]
    }
   ],
   "source": [
    "pprint(db.restaurants.find_one())"
   ]
  },
  {
   "cell_type": "code",
   "execution_count": 69,
   "metadata": {},
   "outputs": [
    {
     "name": "stderr",
     "output_type": "stream",
     "text": [
      "C:\\Users\\YsfEss\\Anaconda3\\lib\\site-packages\\ipykernel_launcher.py:1: DeprecationWarning: count is deprecated. Use estimated_document_count or count_documents instead. Please note that $where must be replaced by $expr, $near must be replaced by $geoWithin with $center, and $nearSphere must be replaced by $geoWithin with $centerSphere\n",
      "  \"\"\"Entry point for launching an IPython kernel.\n"
     ]
    },
    {
     "data": {
      "text/plain": [
       "25359"
      ]
     },
     "execution_count": 69,
     "metadata": {},
     "output_type": "execute_result"
    }
   ],
   "source": [
    "db.restaurants.count() #Number of restaurants in the JSON file."
   ]
  },
  {
   "cell_type": "markdown",
   "metadata": {},
   "source": [
    "# Inserting a new document:"
   ]
  },
  {
   "cell_type": "code",
   "execution_count": 70,
   "metadata": {},
   "outputs": [
    {
     "data": {
      "text/plain": [
       "<pymongo.results.InsertOneResult at 0x18b99eaff48>"
      ]
     },
     "execution_count": 70,
     "metadata": {},
     "output_type": "execute_result"
    }
   ],
   "source": [
    "db.restaurants.insert_one(\n",
    "{\n",
    "\"address\" : {\n",
    "\"street\" : \"2 Avenue\",\n",
    "\"zipcode\" : \"10075\",\n",
    "\"building\" : \"1480\",\n",
    "\"coord\" : [ -73.9557413, 40.7720266 ]\n",
    "},\n",
    "\"borough\" : \"Manhattan\",\n",
    "\"cuisine\" : \"Italian\",\n",
    "\"grades\" : [\n",
    "{\n",
    "\"date\" : datetime.datetime(2014, 10, 1, 0, 0, 0, 0),\n",
    "    \"grade\" : \"A\",\n",
    "\"score\" : 11\n",
    "},\n",
    "{\n",
    "\"date\" : datetime.datetime(2014, 1, 16, 0, 0, 0, 0),\n",
    "\"grade\" : \"B\",\n",
    "\"score\" : 17\n",
    "}\n",
    "],\n",
    "\"name\" : \"Vella\",\n",
    "\"restaurant_id\" : \"41704620\"\n",
    "}\n",
    ")"
   ]
  },
  {
   "cell_type": "code",
   "execution_count": 71,
   "metadata": {},
   "outputs": [
    {
     "name": "stderr",
     "output_type": "stream",
     "text": [
      "C:\\Users\\YsfEss\\Anaconda3\\lib\\site-packages\\ipykernel_launcher.py:1: DeprecationWarning: count is deprecated. Use estimated_document_count or count_documents instead. Please note that $where must be replaced by $expr, $near must be replaced by $geoWithin with $center, and $nearSphere must be replaced by $geoWithin with $centerSphere\n",
      "  \"\"\"Entry point for launching an IPython kernel.\n"
     ]
    },
    {
     "data": {
      "text/plain": [
       "25360"
      ]
     },
     "execution_count": 71,
     "metadata": {},
     "output_type": "execute_result"
    }
   ],
   "source": [
    "db.restaurants.count()"
   ]
  },
  {
   "cell_type": "markdown",
   "metadata": {},
   "source": [
    "# Updating Top-level fields:\n",
    "\n",
    "Update the Document relative to the Juni restaurant and set the cuisine to ‘American\n",
    "(New)’ and the lastModified field in current date to True. Use the function find_one() before and after the update to\n",
    "verify its execution."
   ]
  },
  {
   "cell_type": "code",
   "execution_count": 72,
   "metadata": {},
   "outputs": [
    {
     "name": "stdout",
     "output_type": "stream",
     "text": [
      "{'_id': ObjectId('5cc7253f3ff99b33afc7817e'),\n",
      " 'address': {'building': '12',\n",
      "             'coord': [-73.9852329, 40.745971],\n",
      "             'street': 'East 31 Street',\n",
      "             'zipcode': '10016'},\n",
      " 'borough': 'Manhattan',\n",
      " 'cuisine': 'American',\n",
      " 'grades': [{'date': datetime.datetime(2014, 9, 19, 0, 0),\n",
      "             'grade': 'A',\n",
      "             'score': 12},\n",
      "            {'date': datetime.datetime(2013, 8, 5, 0, 0),\n",
      "             'grade': 'A',\n",
      "             'score': 5},\n",
      "            {'date': datetime.datetime(2012, 6, 7, 0, 0),\n",
      "             'grade': 'A',\n",
      "             'score': 0}],\n",
      " 'name': 'Juni',\n",
      " 'restaurant_id': '41156888'}\n",
      "{'_id': ObjectId('5cc7253f3ff99b33afc7817e'),\n",
      " 'address': {'building': '12',\n",
      "             'coord': [-73.9852329, 40.745971],\n",
      "             'street': 'East 31 Street',\n",
      "             'zipcode': '10016'},\n",
      " 'borough': 'Manhattan',\n",
      " 'cuisine': 'American(New)',\n",
      " 'grades': [{'date': datetime.datetime(2014, 9, 19, 0, 0),\n",
      "             'grade': 'A',\n",
      "             'score': 12},\n",
      "            {'date': datetime.datetime(2013, 8, 5, 0, 0),\n",
      "             'grade': 'A',\n",
      "             'score': 5},\n",
      "            {'date': datetime.datetime(2012, 6, 7, 0, 0),\n",
      "             'grade': 'A',\n",
      "             'score': 0}],\n",
      " 'name': 'Juni',\n",
      " 'restaurant_id': '41156888'}\n"
     ]
    }
   ],
   "source": [
    "queryF = { \"name\": \"Juni\" }\n",
    "pprint(db.restaurants.find_one(queryF))\n",
    "newValues={\"$set\":{\"cuisine\":\"American(New)\"}}\n",
    "db.restaurants.update_one(queryF,newValues)\n",
    "pprint(db.restaurants.find_one(queryF))"
   ]
  },
  {
   "cell_type": "markdown",
   "metadata": {},
   "source": [
    "# Updating Embedded fields:\n",
    "\n",
    "Update the street of the restaurant whose id is 41156888 with the new value \"East\n",
    "41st Street\""
   ]
  },
  {
   "cell_type": "code",
   "execution_count": 73,
   "metadata": {},
   "outputs": [
    {
     "name": "stdout",
     "output_type": "stream",
     "text": [
      "{'_id': ObjectId('5cc7253f3ff99b33afc7817e'),\n",
      " 'address': {'building': '12',\n",
      "             'coord': [-73.9852329, 40.745971],\n",
      "             'street': 'East 31 Street',\n",
      "             'zipcode': '10016'},\n",
      " 'borough': 'Manhattan',\n",
      " 'cuisine': 'American(New)',\n",
      " 'grades': [{'date': datetime.datetime(2014, 9, 19, 0, 0),\n",
      "             'grade': 'A',\n",
      "             'score': 12},\n",
      "            {'date': datetime.datetime(2013, 8, 5, 0, 0),\n",
      "             'grade': 'A',\n",
      "             'score': 5},\n",
      "            {'date': datetime.datetime(2012, 6, 7, 0, 0),\n",
      "             'grade': 'A',\n",
      "             'score': 0}],\n",
      " 'name': 'Juni',\n",
      " 'restaurant_id': '41156888'}\n",
      "{'_id': ObjectId('5cc7253f3ff99b33afc7817e'),\n",
      " 'address': {'building': '12',\n",
      "             'coord': [-73.9852329, 40.745971],\n",
      "             'street': 'East 41st Street',\n",
      "             'zipcode': '10016'},\n",
      " 'borough': 'Manhattan',\n",
      " 'cuisine': 'American(New)',\n",
      " 'grades': [{'date': datetime.datetime(2014, 9, 19, 0, 0),\n",
      "             'grade': 'A',\n",
      "             'score': 12},\n",
      "            {'date': datetime.datetime(2013, 8, 5, 0, 0),\n",
      "             'grade': 'A',\n",
      "             'score': 5},\n",
      "            {'date': datetime.datetime(2012, 6, 7, 0, 0),\n",
      "             'grade': 'A',\n",
      "             'score': 0}],\n",
      " 'name': 'Juni',\n",
      " 'restaurant_id': '41156888'}\n"
     ]
    }
   ],
   "source": [
    "query2 = { \"restaurant_id\": \"41156888\" }\n",
    "pprint(db.restaurants.find_one(query2))\n",
    "newValues={\"$set\":{\"address.street\":\"East 41st Street\"}}\n",
    "db.restaurants.update_one(query2,newValues)\n",
    "pprint(db.restaurants.find_one(query2))"
   ]
  },
  {
   "cell_type": "markdown",
   "metadata": {},
   "source": [
    "# Updating multiple Documents:\n",
    "\n",
    "Update all documents that have a zipcode field equal to \"10016\" and cuisine\n",
    "field equal to “Other”. Set the cuisine field to \"Category To Be Determined\".\n",
    "\n",
    "There is no field called \"lastModified\"."
   ]
  },
  {
   "cell_type": "code",
   "execution_count": 74,
   "metadata": {
    "scrolled": false
   },
   "outputs": [
    {
     "name": "stderr",
     "output_type": "stream",
     "text": [
      "C:\\Users\\YsfEss\\Anaconda3\\lib\\site-packages\\ipykernel_launcher.py:1: DeprecationWarning: count is deprecated. Use Collection.count_documents instead.\n",
      "  \"\"\"Entry point for launching an IPython kernel.\n"
     ]
    },
    {
     "data": {
      "text/plain": [
       "0"
      ]
     },
     "execution_count": 74,
     "metadata": {},
     "output_type": "execute_result"
    }
   ],
   "source": [
    "db.restaurants.find({\"lastModified\": {\"$exists\":True}}).count()"
   ]
  },
  {
   "cell_type": "code",
   "execution_count": 75,
   "metadata": {},
   "outputs": [
    {
     "name": "stderr",
     "output_type": "stream",
     "text": [
      "C:\\Users\\YsfEss\\Anaconda3\\lib\\site-packages\\ipykernel_launcher.py:1: DeprecationWarning: count is deprecated. Use Collection.count_documents instead.\n",
      "  \"\"\"Entry point for launching an IPython kernel.\n"
     ]
    },
    {
     "data": {
      "text/plain": [
       "1011"
      ]
     },
     "execution_count": 75,
     "metadata": {},
     "output_type": "execute_result"
    }
   ],
   "source": [
    "db.restaurants.find({\"cuisine\":\"Other\"}).count() #Number of restaurants with 'Other' value for the cuisine key."
   ]
  },
  {
   "cell_type": "code",
   "execution_count": 76,
   "metadata": {},
   "outputs": [
    {
     "data": {
      "text/plain": [
       "<pymongo.results.UpdateResult at 0x18b98b78648>"
      ]
     },
     "execution_count": 76,
     "metadata": {},
     "output_type": "execute_result"
    }
   ],
   "source": [
    "db.restaurants.update_many({\"cuisine\":\"Other\"},{\"$set\":{\"cuisine\":\"Category To Be Determined\"}}) #Updating multiple files."
   ]
  },
  {
   "cell_type": "code",
   "execution_count": 77,
   "metadata": {},
   "outputs": [
    {
     "name": "stderr",
     "output_type": "stream",
     "text": [
      "C:\\Users\\YsfEss\\Anaconda3\\lib\\site-packages\\ipykernel_launcher.py:1: DeprecationWarning: count is deprecated. Use Collection.count_documents instead.\n",
      "  \"\"\"Entry point for launching an IPython kernel.\n"
     ]
    },
    {
     "data": {
      "text/plain": [
       "0"
      ]
     },
     "execution_count": 77,
     "metadata": {},
     "output_type": "execute_result"
    }
   ],
   "source": [
    "db.restaurants.find({\"cuisine\":\"Other\"}).count() #We expect 0."
   ]
  },
  {
   "cell_type": "code",
   "execution_count": 78,
   "metadata": {},
   "outputs": [
    {
     "name": "stderr",
     "output_type": "stream",
     "text": [
      "C:\\Users\\YsfEss\\Anaconda3\\lib\\site-packages\\ipykernel_launcher.py:1: DeprecationWarning: count is deprecated. Use Collection.count_documents instead.\n",
      "  \"\"\"Entry point for launching an IPython kernel.\n"
     ]
    },
    {
     "data": {
      "text/plain": [
       "1011"
      ]
     },
     "execution_count": 78,
     "metadata": {},
     "output_type": "execute_result"
    }
   ],
   "source": [
    "db.restaurants.find({\"cuisine\":\"Category To Be Determined\"}).count() # We expect 1011"
   ]
  },
  {
   "cell_type": "markdown",
   "metadata": {},
   "source": [
    "# Replacing a Document:\n",
    "\n",
    "Update the Document for the restaurant with id : “41704620”. The modified document will only contain the _id field, name field, the address field. i.e. the document will not contain the restaurant_id, cuisine, grades, and the borough fields."
   ]
  },
  {
   "cell_type": "code",
   "execution_count": 93,
   "metadata": {},
   "outputs": [
    {
     "data": {
      "text/plain": [
       "<pymongo.results.UpdateResult at 0x18b99f67c48>"
      ]
     },
     "execution_count": 93,
     "metadata": {},
     "output_type": "execute_result"
    }
   ],
   "source": [
    "name=db.restaurants.find_one({\"restaurant_id\":\"41704620\"},{\"name\"})\n",
    "address=db.restaurants.find_one({\"restaurant_id\":\"41704620\"},{\"address\"})\n",
    "db.restaurants.replace_one({\"restaurant_id\":\"41704620\"},{\n",
    "    \"name\":\"ahmed\",\n",
    "    \"address\":\"address\"\n",
    "})"
   ]
  },
  {
   "cell_type": "code",
   "execution_count": 95,
   "metadata": {},
   "outputs": [],
   "source": [
    "db.restaurants.find_one({\"restaurant_id\":\"41704620\"})"
   ]
  },
  {
   "cell_type": "code",
   "execution_count": 96,
   "metadata": {},
   "outputs": [
    {
     "name": "stdout",
     "output_type": "stream",
     "text": [
      "None\n"
     ]
    }
   ],
   "source": [
    "pprint(db.restaurants.find_one({\"restaurant_id\":\"41704620\"}))"
   ]
  },
  {
   "cell_type": "code",
   "execution_count": null,
   "metadata": {},
   "outputs": [],
   "source": []
  }
 ],
 "metadata": {
  "kernelspec": {
   "display_name": "Python 3",
   "language": "python",
   "name": "python3"
  },
  "language_info": {
   "codemirror_mode": {
    "name": "ipython",
    "version": 3
   },
   "file_extension": ".py",
   "mimetype": "text/x-python",
   "name": "python",
   "nbconvert_exporter": "python",
   "pygments_lexer": "ipython3",
   "version": "3.6.4"
  }
 },
 "nbformat": 4,
 "nbformat_minor": 2
}
